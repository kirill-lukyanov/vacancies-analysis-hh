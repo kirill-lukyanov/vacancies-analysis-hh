{
  "cells": [
    {
      "cell_type": "markdown",
      "id": "42289889-bd57-434e-9637-d3e354756316",
      "metadata": {
        "id": "42289889-bd57-434e-9637-d3e354756316"
      },
      "source": [
        "<center> <img src = https://raw.githubusercontent.com/AndreyRysistov/DatasetsForPandas/main/hh%20label.jpg alt=\"drawing\" style=\"width:400px;\">"
      ]
    },
    {
      "cell_type": "markdown",
      "id": "829cb75b-f14e-4ba8-9195-7ba929a7d656",
      "metadata": {
        "id": "829cb75b-f14e-4ba8-9195-7ba929a7d656",
        "tags": []
      },
      "source": [
        "# <center> Проект: Анализ вакансий из HeadHunter\n",
        "   "
      ]
    },
    {
      "cell_type": "code",
      "execution_count": 1,
      "id": "dccfde33-2452-43fb-a8a5-5c6ebc02a71d",
      "metadata": {
        "id": "dccfde33-2452-43fb-a8a5-5c6ebc02a71d"
      },
      "outputs": [],
      "source": [
        "import pandas as pd\n",
        "import psycopg2\n",
        "import plotly.graph_objects as go\n",
        "from plotly.subplots import make_subplots\n",
        "import plotly.io as pio\n",
        "import warnings \n",
        "import os\n",
        "from dotenv import load_dotenv\n",
        "pio.renderers.default = \"png\" # Для корректного отображения в github\n",
        "warnings.filterwarnings(\"ignore\") # Игнорирование пердупрежжений "
      ]
    },
    {
      "cell_type": "code",
      "execution_count": 2,
      "id": "87005734",
      "metadata": {},
      "outputs": [],
      "source": [
        "load_dotenv()\n",
        "\n",
        "DBNAME = os.getenv('DBNAME')\n",
        "USER = os.getenv('USER')\n",
        "PASSWORD = os.getenv('PASSWORD')\n",
        "HOST = os.getenv('HOST')\n",
        "PORT = os.getenv('PORT')"
      ]
    },
    {
      "cell_type": "code",
      "execution_count": 3,
      "id": "G4X_q8KBf7SF",
      "metadata": {
        "id": "G4X_q8KBf7SF"
      },
      "outputs": [],
      "source": [
        "connection = psycopg2.connect(\n",
        "    dbname=DBNAME,\n",
        "    user=USER,\n",
        "    host=HOST,\n",
        "    password=PASSWORD,\n",
        "    port=PORT\n",
        ")"
      ]
    },
    {
      "cell_type": "markdown",
      "id": "0dc6476b-7a00-44f1-ac93-6e3baed33a29",
      "metadata": {
        "id": "0dc6476b-7a00-44f1-ac93-6e3baed33a29"
      },
      "source": [
        "# Юнит 3. Предварительный анализ данных"
      ]
    },
    {
      "cell_type": "markdown",
      "id": "889782b6-8d1c-410e-8920-e57f27917c64",
      "metadata": {
        "id": "889782b6-8d1c-410e-8920-e57f27917c64"
      },
      "source": [
        "1. Напишите запрос, который посчитает количество вакансий в нашей базе (вакансии находятся в таблице vacancies). "
      ]
    },
    {
      "cell_type": "code",
      "execution_count": 4,
      "id": "bc39e68e-ed02-4ee2-9235-7258a2f867a8",
      "metadata": {
        "id": "bc39e68e-ed02-4ee2-9235-7258a2f867a8"
      },
      "outputs": [],
      "source": [
        "# текст запроса\n",
        "query_3_1 = f'''\n",
        "select count(*) from vacancies \n",
        "'''"
      ]
    },
    {
      "cell_type": "code",
      "execution_count": 5,
      "id": "7mAwtsk4hEHY",
      "metadata": {
        "id": "7mAwtsk4hEHY"
      },
      "outputs": [
        {
          "data": {
            "text/plain": [
              "49197"
            ]
          },
          "execution_count": 5,
          "metadata": {},
          "output_type": "execute_result"
        }
      ],
      "source": [
        "# результат запроса\n",
        "result_3_1 = pd.read_sql_query(query_3_1, connection).iloc[0,0]\n",
        "result_3_1"
      ]
    },
    {
      "cell_type": "markdown",
      "id": "b583485d-1f9e-494e-ada4-80ffff7c53d6",
      "metadata": {
        "id": "b583485d-1f9e-494e-ada4-80ffff7c53d6"
      },
      "source": [
        "2. Напишите запрос, который посчитает количество работодателей (таблица employers). "
      ]
    },
    {
      "cell_type": "code",
      "execution_count": 6,
      "id": "5408c52c-3407-4a63-b25b-1aafa2322d28",
      "metadata": {
        "id": "5408c52c-3407-4a63-b25b-1aafa2322d28"
      },
      "outputs": [],
      "source": [
        "# текст запроса\n",
        "query_3_2 = f'''\n",
        "select count(*) from employers \n",
        "'''"
      ]
    },
    {
      "cell_type": "code",
      "execution_count": 7,
      "id": "jVL4eshKhdqc",
      "metadata": {
        "id": "jVL4eshKhdqc"
      },
      "outputs": [
        {
          "data": {
            "text/plain": [
              "23501"
            ]
          },
          "execution_count": 7,
          "metadata": {},
          "output_type": "execute_result"
        }
      ],
      "source": [
        "# результат запроса\n",
        "result_3_2 = pd.read_sql_query(query_3_2, connection).iloc[0,0]\n",
        "result_3_2"
      ]
    },
    {
      "cell_type": "markdown",
      "id": "a2bfff1f-c975-4bf6-84be-2185d79dcb76",
      "metadata": {
        "id": "a2bfff1f-c975-4bf6-84be-2185d79dcb76"
      },
      "source": [
        "3. Посчитате с помощью запроса количество регионов (таблица areas)."
      ]
    },
    {
      "cell_type": "code",
      "execution_count": 8,
      "id": "1m8QJwBYhey6",
      "metadata": {
        "id": "1m8QJwBYhey6"
      },
      "outputs": [],
      "source": [
        "# текст запроса\n",
        "query_3_3 = f'''\n",
        "select count(*) from areas \n",
        "'''"
      ]
    },
    {
      "cell_type": "code",
      "execution_count": 9,
      "id": "EZsn9tlfhe7f",
      "metadata": {
        "id": "EZsn9tlfhe7f"
      },
      "outputs": [
        {
          "data": {
            "text/plain": [
              "1362"
            ]
          },
          "execution_count": 9,
          "metadata": {},
          "output_type": "execute_result"
        }
      ],
      "source": [
        "# результат запроса\n",
        "result_3_3 = pd.read_sql_query(query_3_3, connection).iloc[0,0]\n",
        "result_3_3"
      ]
    },
    {
      "cell_type": "markdown",
      "id": "41bb59f3-53cc-4a67-a5bc-bedf573955e4",
      "metadata": {
        "id": "41bb59f3-53cc-4a67-a5bc-bedf573955e4"
      },
      "source": [
        "4. Посчитате с помощью запроса количество сфер деятельности в базе (таблица industries)."
      ]
    },
    {
      "cell_type": "code",
      "execution_count": 10,
      "id": "d286cf4c-707b-4cd2-9190-7ab3587d04a1",
      "metadata": {
        "id": "d286cf4c-707b-4cd2-9190-7ab3587d04a1"
      },
      "outputs": [],
      "source": [
        "# текст запроса\n",
        "query_3_4 = f'''\n",
        "select count(*) from industries \n",
        "'''"
      ]
    },
    {
      "cell_type": "code",
      "execution_count": 11,
      "id": "JYAaoZ4qhfzW",
      "metadata": {
        "id": "JYAaoZ4qhfzW"
      },
      "outputs": [
        {
          "data": {
            "text/plain": [
              "294"
            ]
          },
          "execution_count": 11,
          "metadata": {},
          "output_type": "execute_result"
        }
      ],
      "source": [
        "# результат запроса\n",
        "result_3_4 = pd.read_sql_query(query_3_4, connection).iloc[0,0]\n",
        "result_3_4"
      ]
    },
    {
      "cell_type": "markdown",
      "id": "9a8a2181-6914-448b-85f1-38f5f18b8a93",
      "metadata": {
        "id": "9a8a2181-6914-448b-85f1-38f5f18b8a93"
      },
      "source": [
        "***"
      ]
    },
    {
      "cell_type": "markdown",
      "id": "15c96eb1",
      "metadata": {},
      "source": [
        "### Предварительный анализ:\n",
        "- Количество вакансий - 49197\n",
        "- Количество работодателей - 23501\n",
        "- Количество регионов - 1362\n",
        "- Количество сфер деятельности - 294\n",
        "\n",
        "### Выводы:\n",
        "- Работодатели в среднем оставляют по 2 вакансии\n",
        "- На одну сферу дейтельности в среднем размещено 167 вакансий, что указывает на высокую потребность в специалистах\n",
        "\n"
      ]
    },
    {
      "cell_type": "markdown",
      "id": "8d62a9f3-f64e-4fe7-bdac-c4dffa16155e",
      "metadata": {
        "id": "8d62a9f3-f64e-4fe7-bdac-c4dffa16155e"
      },
      "source": [
        "# Юнит 4. Детальный анализ вакансий"
      ]
    },
    {
      "cell_type": "markdown",
      "id": "93053d3d-b284-481a-9cf7-012d7014c0e0",
      "metadata": {
        "id": "93053d3d-b284-481a-9cf7-012d7014c0e0"
      },
      "source": [
        "1. Напишите запрос, который позволит узнать, сколько (cnt) вакансий в каждом регионе (area).\n",
        "Отсортируйте по количеству вакансий в порядке убывания."
      ]
    },
    {
      "cell_type": "code",
      "execution_count": 12,
      "id": "3f069da6-fdc9-4ae7-b514-fafe2675efd3",
      "metadata": {
        "id": "3f069da6-fdc9-4ae7-b514-fafe2675efd3"
      },
      "outputs": [],
      "source": [
        "# текст запроса\n",
        "query_4_1 = f'''\n",
        "select \n",
        "    a.name, count(*) as cnt\n",
        "from vacancies v\n",
        "    join areas a on v.area_id=a.id \n",
        "group by a.name\n",
        "order by cnt desc\n",
        "'''"
      ]
    },
    {
      "cell_type": "code",
      "execution_count": 13,
      "id": "P7QL86hrjhRJ",
      "metadata": {
        "id": "P7QL86hrjhRJ"
      },
      "outputs": [
        {
          "data": {
            "application/vnd.microsoft.datawrangler.viewer.v0+json": {
              "columns": [
                {
                  "name": "index",
                  "rawType": "int64",
                  "type": "integer"
                },
                {
                  "name": "name",
                  "rawType": "object",
                  "type": "string"
                },
                {
                  "name": "cnt",
                  "rawType": "int64",
                  "type": "integer"
                }
              ],
              "conversionMethod": "pd.DataFrame",
              "ref": "3364b484-de8b-4490-997e-14cfa38c85e0",
              "rows": [
                [
                  "0",
                  "Москва",
                  "5333"
                ],
                [
                  "1",
                  "Санкт-Петербург",
                  "2851"
                ],
                [
                  "2",
                  "Минск",
                  "2112"
                ],
                [
                  "3",
                  "Новосибирск",
                  "2006"
                ],
                [
                  "4",
                  "Алматы",
                  "1892"
                ],
                [
                  "5",
                  "Екатеринбург",
                  "1698"
                ],
                [
                  "6",
                  "Нижний Новгород",
                  "1670"
                ],
                [
                  "7",
                  "Казань",
                  "1415"
                ],
                [
                  "8",
                  "Краснодар",
                  "1301"
                ],
                [
                  "9",
                  "Самара",
                  "1144"
                ],
                [
                  "10",
                  "Ростов-на-Дону",
                  "1131"
                ],
                [
                  "11",
                  "Воронеж",
                  "1063"
                ],
                [
                  "12",
                  "Ташкент",
                  "851"
                ],
                [
                  "13",
                  "Красноярск",
                  "847"
                ],
                [
                  "14",
                  "Нур-Султан",
                  "840"
                ],
                [
                  "15",
                  "Челябинск",
                  "786"
                ],
                [
                  "16",
                  "Пермь",
                  "771"
                ],
                [
                  "17",
                  "Уфа",
                  "767"
                ],
                [
                  "18",
                  "Томск",
                  "692"
                ],
                [
                  "19",
                  "Омск",
                  "617"
                ],
                [
                  "20",
                  "Саратов",
                  "579"
                ],
                [
                  "21",
                  "Тюмень",
                  "547"
                ],
                [
                  "22",
                  "Владивосток",
                  "539"
                ],
                [
                  "23",
                  "Тбилиси",
                  "474"
                ],
                [
                  "24",
                  "Ижевск",
                  "466"
                ],
                [
                  "25",
                  "Волгоград",
                  "456"
                ],
                [
                  "26",
                  "Иркутск",
                  "451"
                ],
                [
                  "27",
                  "Ярославль",
                  "391"
                ],
                [
                  "28",
                  "Барнаул",
                  "374"
                ],
                [
                  "29",
                  "Рязань",
                  "346"
                ],
                [
                  "30",
                  "Калининград",
                  "343"
                ],
                [
                  "31",
                  "Тула",
                  "343"
                ],
                [
                  "32",
                  "Хабаровск",
                  "338"
                ],
                [
                  "33",
                  "Ульяновск",
                  "332"
                ],
                [
                  "34",
                  "Кемерово",
                  "316"
                ],
                [
                  "35",
                  "Пенза",
                  "305"
                ],
                [
                  "36",
                  "Киров (Кировская область)",
                  "293"
                ],
                [
                  "37",
                  "Тверь",
                  "274"
                ],
                [
                  "38",
                  "Белгород",
                  "253"
                ],
                [
                  "39",
                  "Чебоксары",
                  "245"
                ],
                [
                  "40",
                  "Сочи",
                  "230"
                ],
                [
                  "41",
                  "Тольятти",
                  "229"
                ],
                [
                  "42",
                  "Армения",
                  "223"
                ],
                [
                  "43",
                  "Владимир",
                  "219"
                ],
                [
                  "44",
                  "Липецк",
                  "203"
                ],
                [
                  "45",
                  "Набережные Челны",
                  "202"
                ],
                [
                  "46",
                  "Оренбург",
                  "199"
                ],
                [
                  "47",
                  "Иваново (Ивановская область)",
                  "190"
                ],
                [
                  "48",
                  "Симферополь",
                  "187"
                ],
                [
                  "49",
                  "Курск",
                  "178"
                ]
              ],
              "shape": {
                "columns": 2,
                "rows": 769
              }
            },
            "text/html": [
              "<div>\n",
              "<style scoped>\n",
              "    .dataframe tbody tr th:only-of-type {\n",
              "        vertical-align: middle;\n",
              "    }\n",
              "\n",
              "    .dataframe tbody tr th {\n",
              "        vertical-align: top;\n",
              "    }\n",
              "\n",
              "    .dataframe thead th {\n",
              "        text-align: right;\n",
              "    }\n",
              "</style>\n",
              "<table border=\"1\" class=\"dataframe\">\n",
              "  <thead>\n",
              "    <tr style=\"text-align: right;\">\n",
              "      <th></th>\n",
              "      <th>name</th>\n",
              "      <th>cnt</th>\n",
              "    </tr>\n",
              "  </thead>\n",
              "  <tbody>\n",
              "    <tr>\n",
              "      <th>0</th>\n",
              "      <td>Москва</td>\n",
              "      <td>5333</td>\n",
              "    </tr>\n",
              "    <tr>\n",
              "      <th>1</th>\n",
              "      <td>Санкт-Петербург</td>\n",
              "      <td>2851</td>\n",
              "    </tr>\n",
              "    <tr>\n",
              "      <th>2</th>\n",
              "      <td>Минск</td>\n",
              "      <td>2112</td>\n",
              "    </tr>\n",
              "    <tr>\n",
              "      <th>3</th>\n",
              "      <td>Новосибирск</td>\n",
              "      <td>2006</td>\n",
              "    </tr>\n",
              "    <tr>\n",
              "      <th>4</th>\n",
              "      <td>Алматы</td>\n",
              "      <td>1892</td>\n",
              "    </tr>\n",
              "    <tr>\n",
              "      <th>...</th>\n",
              "      <td>...</td>\n",
              "      <td>...</td>\n",
              "    </tr>\n",
              "    <tr>\n",
              "      <th>764</th>\n",
              "      <td>Тарко-Сале</td>\n",
              "      <td>1</td>\n",
              "    </tr>\n",
              "    <tr>\n",
              "      <th>765</th>\n",
              "      <td>Новоаннинский</td>\n",
              "      <td>1</td>\n",
              "    </tr>\n",
              "    <tr>\n",
              "      <th>766</th>\n",
              "      <td>Бирск</td>\n",
              "      <td>1</td>\n",
              "    </tr>\n",
              "    <tr>\n",
              "      <th>767</th>\n",
              "      <td>Сасово</td>\n",
              "      <td>1</td>\n",
              "    </tr>\n",
              "    <tr>\n",
              "      <th>768</th>\n",
              "      <td>Анна</td>\n",
              "      <td>1</td>\n",
              "    </tr>\n",
              "  </tbody>\n",
              "</table>\n",
              "<p>769 rows × 2 columns</p>\n",
              "</div>"
            ],
            "text/plain": [
              "                name   cnt\n",
              "0             Москва  5333\n",
              "1    Санкт-Петербург  2851\n",
              "2              Минск  2112\n",
              "3        Новосибирск  2006\n",
              "4             Алматы  1892\n",
              "..               ...   ...\n",
              "764       Тарко-Сале     1\n",
              "765    Новоаннинский     1\n",
              "766            Бирск     1\n",
              "767           Сасово     1\n",
              "768             Анна     1\n",
              "\n",
              "[769 rows x 2 columns]"
            ]
          },
          "execution_count": 13,
          "metadata": {},
          "output_type": "execute_result"
        }
      ],
      "source": [
        "# результат запроса\n",
        "result_4_1 = pd.read_sql_query(query_4_1, connection)\n",
        "result_4_1"
      ]
    },
    {
      "cell_type": "markdown",
      "id": "4266f0b6-1646-492a-88b4-2f6a46502135",
      "metadata": {
        "id": "4266f0b6-1646-492a-88b4-2f6a46502135"
      },
      "source": [
        "2. Напишите запрос, чтобы определить у какого количества вакансий заполнено хотя бы одно из двух полей с зарплатой."
      ]
    },
    {
      "cell_type": "code",
      "execution_count": 14,
      "id": "0c44b350-72eb-4d65-8b54-a1fc449ba9fd",
      "metadata": {
        "id": "0c44b350-72eb-4d65-8b54-a1fc449ba9fd"
      },
      "outputs": [],
      "source": [
        "# текст запроса\n",
        "query_4_2 = f'''\n",
        "select \n",
        "    count(*)\n",
        "from vacancies\n",
        "where salary_from is not null or salary_to is not null -- где нижняя и верхняя зарплаты заполнены\n",
        "'''"
      ]
    },
    {
      "cell_type": "code",
      "execution_count": 15,
      "id": "rhvwaMDkoWTi",
      "metadata": {
        "id": "rhvwaMDkoWTi"
      },
      "outputs": [
        {
          "data": {
            "text/plain": [
              "24073"
            ]
          },
          "execution_count": 15,
          "metadata": {},
          "output_type": "execute_result"
        }
      ],
      "source": [
        "# результат запроса\n",
        "result_4_2 = pd.read_sql_query(query_4_2, connection).iloc[0, 0]\n",
        "result_4_2"
      ]
    },
    {
      "cell_type": "markdown",
      "id": "635c4d5d-f323-4c66-b428-50a088120aa0",
      "metadata": {
        "id": "635c4d5d-f323-4c66-b428-50a088120aa0"
      },
      "source": [
        "3. Найдите средние значения для нижней и верхней границы зарплатной вилки. Округлите значения до целого."
      ]
    },
    {
      "cell_type": "code",
      "execution_count": 16,
      "id": "603cdbe4-0ec3-4106-8eaf-c73fcdd29165",
      "metadata": {
        "id": "603cdbe4-0ec3-4106-8eaf-c73fcdd29165"
      },
      "outputs": [],
      "source": [
        "# текст запроса\n",
        "query_4_3 = f'''\n",
        "select \n",
        "    round(avg(salary_from)) as low,\n",
        "    round(avg(salary_to)) as high\n",
        "from vacancies\n",
        "'''"
      ]
    },
    {
      "cell_type": "code",
      "execution_count": 17,
      "id": "pswpAb66ovZZ",
      "metadata": {
        "id": "pswpAb66ovZZ"
      },
      "outputs": [
        {
          "data": {
            "application/vnd.microsoft.datawrangler.viewer.v0+json": {
              "columns": [
                {
                  "name": "index",
                  "rawType": "int64",
                  "type": "integer"
                },
                {
                  "name": "low",
                  "rawType": "float64",
                  "type": "float"
                },
                {
                  "name": "high",
                  "rawType": "float64",
                  "type": "float"
                }
              ],
              "conversionMethod": "pd.DataFrame",
              "ref": "dd575773-6688-49d0-a578-0b815742067f",
              "rows": [
                [
                  "0",
                  "71065.0",
                  "110537.0"
                ]
              ],
              "shape": {
                "columns": 2,
                "rows": 1
              }
            },
            "text/html": [
              "<div>\n",
              "<style scoped>\n",
              "    .dataframe tbody tr th:only-of-type {\n",
              "        vertical-align: middle;\n",
              "    }\n",
              "\n",
              "    .dataframe tbody tr th {\n",
              "        vertical-align: top;\n",
              "    }\n",
              "\n",
              "    .dataframe thead th {\n",
              "        text-align: right;\n",
              "    }\n",
              "</style>\n",
              "<table border=\"1\" class=\"dataframe\">\n",
              "  <thead>\n",
              "    <tr style=\"text-align: right;\">\n",
              "      <th></th>\n",
              "      <th>low</th>\n",
              "      <th>high</th>\n",
              "    </tr>\n",
              "  </thead>\n",
              "  <tbody>\n",
              "    <tr>\n",
              "      <th>0</th>\n",
              "      <td>71065.0</td>\n",
              "      <td>110537.0</td>\n",
              "    </tr>\n",
              "  </tbody>\n",
              "</table>\n",
              "</div>"
            ],
            "text/plain": [
              "       low      high\n",
              "0  71065.0  110537.0"
            ]
          },
          "execution_count": 17,
          "metadata": {},
          "output_type": "execute_result"
        }
      ],
      "source": [
        "# результат запроса\n",
        "result_4_3 = pd.read_sql_query(query_4_3, connection)\n",
        "result_4_3"
      ]
    },
    {
      "cell_type": "markdown",
      "id": "f3fdaec9-5fd3-4260-9cf5-1d7406b628a5",
      "metadata": {
        "id": "f3fdaec9-5fd3-4260-9cf5-1d7406b628a5"
      },
      "source": [
        "4. Напишите запрос, который выведет количество вакансий для каждого сочетания типа рабочего графика (schedule) и типа трудоустройства (employment), используемого в вакансиях. Результат отсортируйте по убыванию количества.\n"
      ]
    },
    {
      "cell_type": "code",
      "execution_count": 18,
      "id": "1ea710ec-871b-431e-9462-c7d0fd87011b",
      "metadata": {
        "id": "1ea710ec-871b-431e-9462-c7d0fd87011b"
      },
      "outputs": [],
      "source": [
        "# текст запроса\n",
        "query_4_4 = f'''\n",
        "select \n",
        "    schedule,\n",
        "    employment,\n",
        "    count(*) as cnt\n",
        "from vacancies\n",
        "group by schedule, employment\n",
        "order by cnt desc\n",
        "'''"
      ]
    },
    {
      "cell_type": "code",
      "execution_count": 19,
      "id": "lGUVqavdo4JQ",
      "metadata": {
        "id": "lGUVqavdo4JQ"
      },
      "outputs": [
        {
          "data": {
            "application/vnd.microsoft.datawrangler.viewer.v0+json": {
              "columns": [
                {
                  "name": "index",
                  "rawType": "int64",
                  "type": "integer"
                },
                {
                  "name": "schedule",
                  "rawType": "object",
                  "type": "string"
                },
                {
                  "name": "employment",
                  "rawType": "object",
                  "type": "string"
                },
                {
                  "name": "cnt",
                  "rawType": "int64",
                  "type": "integer"
                }
              ],
              "conversionMethod": "pd.DataFrame",
              "ref": "d1c5f134-7cbc-46a4-a425-009b1daacd4a",
              "rows": [
                [
                  "0",
                  "Полный день",
                  "Полная занятость",
                  "35367"
                ],
                [
                  "1",
                  "Удаленная работа",
                  "Полная занятость",
                  "7802"
                ],
                [
                  "2",
                  "Гибкий график",
                  "Полная занятость",
                  "1593"
                ],
                [
                  "3",
                  "Удаленная работа",
                  "Частичная занятость",
                  "1312"
                ],
                [
                  "4",
                  "Сменный график",
                  "Полная занятость",
                  "940"
                ],
                [
                  "5",
                  "Полный день",
                  "Стажировка",
                  "569"
                ],
                [
                  "6",
                  "Вахтовый метод",
                  "Полная занятость",
                  "367"
                ],
                [
                  "7",
                  "Полный день",
                  "Частичная занятость",
                  "347"
                ],
                [
                  "8",
                  "Гибкий график",
                  "Частичная занятость",
                  "312"
                ],
                [
                  "9",
                  "Полный день",
                  "Проектная работа",
                  "141"
                ],
                [
                  "10",
                  "Удаленная работа",
                  "Проектная работа",
                  "133"
                ],
                [
                  "11",
                  "Гибкий график",
                  "Стажировка",
                  "116"
                ],
                [
                  "12",
                  "Сменный график",
                  "Частичная занятость",
                  "101"
                ],
                [
                  "13",
                  "Удаленная работа",
                  "Стажировка",
                  "64"
                ],
                [
                  "14",
                  "Гибкий график",
                  "Проектная работа",
                  "18"
                ],
                [
                  "15",
                  "Сменный график",
                  "Стажировка",
                  "12"
                ],
                [
                  "16",
                  "Вахтовый метод",
                  "Проектная работа",
                  "2"
                ],
                [
                  "17",
                  "Сменный график",
                  "Проектная работа",
                  "1"
                ]
              ],
              "shape": {
                "columns": 3,
                "rows": 18
              }
            },
            "text/html": [
              "<div>\n",
              "<style scoped>\n",
              "    .dataframe tbody tr th:only-of-type {\n",
              "        vertical-align: middle;\n",
              "    }\n",
              "\n",
              "    .dataframe tbody tr th {\n",
              "        vertical-align: top;\n",
              "    }\n",
              "\n",
              "    .dataframe thead th {\n",
              "        text-align: right;\n",
              "    }\n",
              "</style>\n",
              "<table border=\"1\" class=\"dataframe\">\n",
              "  <thead>\n",
              "    <tr style=\"text-align: right;\">\n",
              "      <th></th>\n",
              "      <th>schedule</th>\n",
              "      <th>employment</th>\n",
              "      <th>cnt</th>\n",
              "    </tr>\n",
              "  </thead>\n",
              "  <tbody>\n",
              "    <tr>\n",
              "      <th>0</th>\n",
              "      <td>Полный день</td>\n",
              "      <td>Полная занятость</td>\n",
              "      <td>35367</td>\n",
              "    </tr>\n",
              "    <tr>\n",
              "      <th>1</th>\n",
              "      <td>Удаленная работа</td>\n",
              "      <td>Полная занятость</td>\n",
              "      <td>7802</td>\n",
              "    </tr>\n",
              "    <tr>\n",
              "      <th>2</th>\n",
              "      <td>Гибкий график</td>\n",
              "      <td>Полная занятость</td>\n",
              "      <td>1593</td>\n",
              "    </tr>\n",
              "    <tr>\n",
              "      <th>3</th>\n",
              "      <td>Удаленная работа</td>\n",
              "      <td>Частичная занятость</td>\n",
              "      <td>1312</td>\n",
              "    </tr>\n",
              "    <tr>\n",
              "      <th>4</th>\n",
              "      <td>Сменный график</td>\n",
              "      <td>Полная занятость</td>\n",
              "      <td>940</td>\n",
              "    </tr>\n",
              "    <tr>\n",
              "      <th>5</th>\n",
              "      <td>Полный день</td>\n",
              "      <td>Стажировка</td>\n",
              "      <td>569</td>\n",
              "    </tr>\n",
              "    <tr>\n",
              "      <th>6</th>\n",
              "      <td>Вахтовый метод</td>\n",
              "      <td>Полная занятость</td>\n",
              "      <td>367</td>\n",
              "    </tr>\n",
              "    <tr>\n",
              "      <th>7</th>\n",
              "      <td>Полный день</td>\n",
              "      <td>Частичная занятость</td>\n",
              "      <td>347</td>\n",
              "    </tr>\n",
              "    <tr>\n",
              "      <th>8</th>\n",
              "      <td>Гибкий график</td>\n",
              "      <td>Частичная занятость</td>\n",
              "      <td>312</td>\n",
              "    </tr>\n",
              "    <tr>\n",
              "      <th>9</th>\n",
              "      <td>Полный день</td>\n",
              "      <td>Проектная работа</td>\n",
              "      <td>141</td>\n",
              "    </tr>\n",
              "    <tr>\n",
              "      <th>10</th>\n",
              "      <td>Удаленная работа</td>\n",
              "      <td>Проектная работа</td>\n",
              "      <td>133</td>\n",
              "    </tr>\n",
              "    <tr>\n",
              "      <th>11</th>\n",
              "      <td>Гибкий график</td>\n",
              "      <td>Стажировка</td>\n",
              "      <td>116</td>\n",
              "    </tr>\n",
              "    <tr>\n",
              "      <th>12</th>\n",
              "      <td>Сменный график</td>\n",
              "      <td>Частичная занятость</td>\n",
              "      <td>101</td>\n",
              "    </tr>\n",
              "    <tr>\n",
              "      <th>13</th>\n",
              "      <td>Удаленная работа</td>\n",
              "      <td>Стажировка</td>\n",
              "      <td>64</td>\n",
              "    </tr>\n",
              "    <tr>\n",
              "      <th>14</th>\n",
              "      <td>Гибкий график</td>\n",
              "      <td>Проектная работа</td>\n",
              "      <td>18</td>\n",
              "    </tr>\n",
              "    <tr>\n",
              "      <th>15</th>\n",
              "      <td>Сменный график</td>\n",
              "      <td>Стажировка</td>\n",
              "      <td>12</td>\n",
              "    </tr>\n",
              "    <tr>\n",
              "      <th>16</th>\n",
              "      <td>Вахтовый метод</td>\n",
              "      <td>Проектная работа</td>\n",
              "      <td>2</td>\n",
              "    </tr>\n",
              "    <tr>\n",
              "      <th>17</th>\n",
              "      <td>Сменный график</td>\n",
              "      <td>Проектная работа</td>\n",
              "      <td>1</td>\n",
              "    </tr>\n",
              "  </tbody>\n",
              "</table>\n",
              "</div>"
            ],
            "text/plain": [
              "            schedule           employment    cnt\n",
              "0        Полный день     Полная занятость  35367\n",
              "1   Удаленная работа     Полная занятость   7802\n",
              "2      Гибкий график     Полная занятость   1593\n",
              "3   Удаленная работа  Частичная занятость   1312\n",
              "4     Сменный график     Полная занятость    940\n",
              "5        Полный день           Стажировка    569\n",
              "6     Вахтовый метод     Полная занятость    367\n",
              "7        Полный день  Частичная занятость    347\n",
              "8      Гибкий график  Частичная занятость    312\n",
              "9        Полный день     Проектная работа    141\n",
              "10  Удаленная работа     Проектная работа    133\n",
              "11     Гибкий график           Стажировка    116\n",
              "12    Сменный график  Частичная занятость    101\n",
              "13  Удаленная работа           Стажировка     64\n",
              "14     Гибкий график     Проектная работа     18\n",
              "15    Сменный график           Стажировка     12\n",
              "16    Вахтовый метод     Проектная работа      2\n",
              "17    Сменный график     Проектная работа      1"
            ]
          },
          "execution_count": 19,
          "metadata": {},
          "output_type": "execute_result"
        }
      ],
      "source": [
        "# результат запроса\n",
        "result_4_4 = pd.read_sql_query(query_4_4, connection)\n",
        "result_4_4"
      ]
    },
    {
      "cell_type": "markdown",
      "id": "0136ffee-0ead-4a6b-b608-61d1c753a438",
      "metadata": {
        "id": "0136ffee-0ead-4a6b-b608-61d1c753a438"
      },
      "source": [
        "5. Напишите запрос, выводящий значения поля Требуемый опыт работы (experience) в порядке возрастания количества вакансий, в которых указан данный вариант опыта. "
      ]
    },
    {
      "cell_type": "code",
      "execution_count": 20,
      "id": "5b3a8e79-f7ab-4008-b767-12aea3a205ea",
      "metadata": {
        "id": "5b3a8e79-f7ab-4008-b767-12aea3a205ea"
      },
      "outputs": [],
      "source": [
        "# текст запроса\n",
        "query_4_5 = f'''\n",
        "select \n",
        "    experience,\n",
        "    count(*)\n",
        "from vacancies\n",
        "group by experience\n",
        "order by 2\n",
        "'''"
      ]
    },
    {
      "cell_type": "code",
      "execution_count": 21,
      "id": "3Is64Y-hpDpq",
      "metadata": {
        "id": "3Is64Y-hpDpq"
      },
      "outputs": [
        {
          "data": {
            "application/vnd.microsoft.datawrangler.viewer.v0+json": {
              "columns": [
                {
                  "name": "index",
                  "rawType": "int64",
                  "type": "integer"
                },
                {
                  "name": "experience",
                  "rawType": "object",
                  "type": "string"
                },
                {
                  "name": "count",
                  "rawType": "int64",
                  "type": "integer"
                }
              ],
              "conversionMethod": "pd.DataFrame",
              "ref": "1c33bb8b-cad4-4e9a-a91a-a9b0d6a5bf25",
              "rows": [
                [
                  "0",
                  "Более 6 лет",
                  "1337"
                ],
                [
                  "1",
                  "Нет опыта",
                  "7197"
                ],
                [
                  "2",
                  "От 3 до 6 лет",
                  "14511"
                ],
                [
                  "3",
                  "От 1 года до 3 лет",
                  "26152"
                ]
              ],
              "shape": {
                "columns": 2,
                "rows": 4
              }
            },
            "text/html": [
              "<div>\n",
              "<style scoped>\n",
              "    .dataframe tbody tr th:only-of-type {\n",
              "        vertical-align: middle;\n",
              "    }\n",
              "\n",
              "    .dataframe tbody tr th {\n",
              "        vertical-align: top;\n",
              "    }\n",
              "\n",
              "    .dataframe thead th {\n",
              "        text-align: right;\n",
              "    }\n",
              "</style>\n",
              "<table border=\"1\" class=\"dataframe\">\n",
              "  <thead>\n",
              "    <tr style=\"text-align: right;\">\n",
              "      <th></th>\n",
              "      <th>experience</th>\n",
              "      <th>count</th>\n",
              "    </tr>\n",
              "  </thead>\n",
              "  <tbody>\n",
              "    <tr>\n",
              "      <th>0</th>\n",
              "      <td>Более 6 лет</td>\n",
              "      <td>1337</td>\n",
              "    </tr>\n",
              "    <tr>\n",
              "      <th>1</th>\n",
              "      <td>Нет опыта</td>\n",
              "      <td>7197</td>\n",
              "    </tr>\n",
              "    <tr>\n",
              "      <th>2</th>\n",
              "      <td>От 3 до 6 лет</td>\n",
              "      <td>14511</td>\n",
              "    </tr>\n",
              "    <tr>\n",
              "      <th>3</th>\n",
              "      <td>От 1 года до 3 лет</td>\n",
              "      <td>26152</td>\n",
              "    </tr>\n",
              "  </tbody>\n",
              "</table>\n",
              "</div>"
            ],
            "text/plain": [
              "           experience  count\n",
              "0         Более 6 лет   1337\n",
              "1           Нет опыта   7197\n",
              "2       От 3 до 6 лет  14511\n",
              "3  От 1 года до 3 лет  26152"
            ]
          },
          "execution_count": 21,
          "metadata": {},
          "output_type": "execute_result"
        }
      ],
      "source": [
        "# результат запроса\n",
        "result_4_5 = pd.read_sql_query(query_4_5, connection)\n",
        "result_4_5"
      ]
    },
    {
      "cell_type": "markdown",
      "id": "oq2b7n1QpIka",
      "metadata": {
        "id": "oq2b7n1QpIka"
      },
      "source": [
        "***"
      ]
    },
    {
      "cell_type": "markdown",
      "id": "9ad40e0e",
      "metadata": {},
      "source": [
        "### Детальный анализ вакансий:\n",
        "- Количество вакансий с указанной заработной платой - 24073\n",
        "- Средняя нижняя зп - 71065, средняя верхняя зп - 110537"
      ]
    },
    {
      "cell_type": "code",
      "execution_count": 22,
      "id": "3a35cda4",
      "metadata": {},
      "outputs": [
        {
          "data": {
            "image/png": "[encoded data removed]"
          },
          "metadata": {},
          "output_type": "display_data"
        }
      ],
      "source": [
        "fig = make_subplots(rows=1, cols=3, vertical_spacing=0.1, horizontal_spacing=0.125, subplot_titles=[\n",
        "    'Топ-10 городов по количеству вакансий',\n",
        "    'Количество вакансий в зависимости<br>от требуемого опыта работы',\n",
        "    'Количество вакансий для каждого сочетания<br>типа рабочего графика и типа трудоустройства,<br>используемого в вакансиях',\n",
        "])\n",
        "\n",
        "fig.add_trace(go.Bar(\n",
        "    x=result_4_1['name'][:10], y=result_4_1['cnt'][:10], showlegend=False), row=1, col=1)\n",
        "fig.add_trace(go.Bar(\n",
        "    x=result_4_5['experience'], y=result_4_5['count'], showlegend=False), row=1, col=2)\n",
        "fig.add_trace(go.Heatmap(\n",
        "    x=result_4_4['schedule'], y=result_4_4['employment'], z=result_4_4['cnt']), row=1, col=3)\n",
        "\n",
        "fig.update_layout(\n",
        "    width=1600,\n",
        "    height=500,\n",
        "    margin=dict(t=100),\n",
        "    xaxis1_title_text='Город',\n",
        "    yaxis1_title_text='Количество вакансий',\n",
        "    xaxis2_title_text='Опыт работы',\n",
        "    yaxis2_title_text='Количество вакансий',\n",
        "    xaxis3_title_text='Рабочий график',\n",
        "    yaxis3_title_text='Тип трудоустройства',\n",
        ")\n",
        "fig.show()"
      ]
    },
    {
      "cell_type": "markdown",
      "id": "6f5276bb",
      "metadata": {},
      "source": [
        "#### Выводы\n",
        "- Половина работодателей не указывают заработную плату\n",
        "- Средняя верхняя зп в 1.55 раза выше чем нижняя\n",
        "- Больше всего вакансий в городе Москва\n",
        "- Чаще всего работодатели указывают требуемый опыт работы от 1-го до 3-х лет. Работодатели предпочитают нанимать уже опытных специалистов\n",
        "- Полная занятость на полный день указана в 70% вакансий"
      ]
    },
    {
      "cell_type": "markdown",
      "id": "7ea20ab6-04a7-40a0-adec-443a0e5a42c3",
      "metadata": {
        "id": "7ea20ab6-04a7-40a0-adec-443a0e5a42c3"
      },
      "source": [
        "# Юнит 5. Анализ работодателей"
      ]
    },
    {
      "cell_type": "markdown",
      "id": "968aed80-74ef-4ffb-b5bf-c65b84e9caea",
      "metadata": {
        "id": "968aed80-74ef-4ffb-b5bf-c65b84e9caea"
      },
      "source": [
        "1. Напишите запрос, который позволит узнать, какие работодатели находятся на первом и пятом месте по количеству вакансий."
      ]
    },
    {
      "cell_type": "code",
      "execution_count": 23,
      "id": "f2d62796-d400-4ec1-a675-88112739a50e",
      "metadata": {
        "id": "f2d62796-d400-4ec1-a675-88112739a50e"
      },
      "outputs": [],
      "source": [
        "# текст запроса\n",
        "query_5_1 = f'''\n",
        "select \n",
        "    e.*,\n",
        "    count(*) as vc_cnt\n",
        "from vacancies v \n",
        "    join employers e on v.employer_id=e.id\n",
        "group by e.id\n",
        "order by vc_cnt desc\n",
        "limit 5\n",
        "'''"
      ]
    },
    {
      "cell_type": "code",
      "execution_count": 24,
      "id": "64tOMkAxqkQk",
      "metadata": {
        "id": "64tOMkAxqkQk"
      },
      "outputs": [
        {
          "data": {
            "application/vnd.microsoft.datawrangler.viewer.v0+json": {
              "columns": [
                {
                  "name": "index",
                  "rawType": "int64",
                  "type": "integer"
                },
                {
                  "name": "id",
                  "rawType": "int64",
                  "type": "integer"
                },
                {
                  "name": "name",
                  "rawType": "object",
                  "type": "string"
                },
                {
                  "name": "area",
                  "rawType": "int64",
                  "type": "integer"
                },
                {
                  "name": "vc_cnt",
                  "rawType": "int64",
                  "type": "integer"
                }
              ],
              "conversionMethod": "pd.DataFrame",
              "ref": "991d3927-b2b0-4bee-b76a-81b12599e046",
              "rows": [
                [
                  "0",
                  "1740",
                  "Яндекс",
                  "1",
                  "1933"
                ],
                [
                  "1",
                  "2748",
                  "Ростелеком",
                  "1",
                  "491"
                ],
                [
                  "2",
                  "78638",
                  "Тинькофф",
                  "1",
                  "444"
                ],
                [
                  "3",
                  "3529",
                  "СБЕР",
                  "1",
                  "428"
                ],
                [
                  "4",
                  "39305",
                  "Газпром нефть",
                  "2",
                  "331"
                ]
              ],
              "shape": {
                "columns": 4,
                "rows": 5
              }
            },
            "text/html": [
              "<div>\n",
              "<style scoped>\n",
              "    .dataframe tbody tr th:only-of-type {\n",
              "        vertical-align: middle;\n",
              "    }\n",
              "\n",
              "    .dataframe tbody tr th {\n",
              "        vertical-align: top;\n",
              "    }\n",
              "\n",
              "    .dataframe thead th {\n",
              "        text-align: right;\n",
              "    }\n",
              "</style>\n",
              "<table border=\"1\" class=\"dataframe\">\n",
              "  <thead>\n",
              "    <tr style=\"text-align: right;\">\n",
              "      <th></th>\n",
              "      <th>id</th>\n",
              "      <th>name</th>\n",
              "      <th>area</th>\n",
              "      <th>vc_cnt</th>\n",
              "    </tr>\n",
              "  </thead>\n",
              "  <tbody>\n",
              "    <tr>\n",
              "      <th>0</th>\n",
              "      <td>1740</td>\n",
              "      <td>Яндекс</td>\n",
              "      <td>1</td>\n",
              "      <td>1933</td>\n",
              "    </tr>\n",
              "    <tr>\n",
              "      <th>1</th>\n",
              "      <td>2748</td>\n",
              "      <td>Ростелеком</td>\n",
              "      <td>1</td>\n",
              "      <td>491</td>\n",
              "    </tr>\n",
              "    <tr>\n",
              "      <th>2</th>\n",
              "      <td>78638</td>\n",
              "      <td>Тинькофф</td>\n",
              "      <td>1</td>\n",
              "      <td>444</td>\n",
              "    </tr>\n",
              "    <tr>\n",
              "      <th>3</th>\n",
              "      <td>3529</td>\n",
              "      <td>СБЕР</td>\n",
              "      <td>1</td>\n",
              "      <td>428</td>\n",
              "    </tr>\n",
              "    <tr>\n",
              "      <th>4</th>\n",
              "      <td>39305</td>\n",
              "      <td>Газпром нефть</td>\n",
              "      <td>2</td>\n",
              "      <td>331</td>\n",
              "    </tr>\n",
              "  </tbody>\n",
              "</table>\n",
              "</div>"
            ],
            "text/plain": [
              "      id           name  area  vc_cnt\n",
              "0   1740         Яндекс     1    1933\n",
              "1   2748     Ростелеком     1     491\n",
              "2  78638       Тинькофф     1     444\n",
              "3   3529           СБЕР     1     428\n",
              "4  39305  Газпром нефть     2     331"
            ]
          },
          "execution_count": 24,
          "metadata": {},
          "output_type": "execute_result"
        }
      ],
      "source": [
        "# результат запроса\n",
        "result_5_1 = pd.read_sql_query(query_5_1, connection)\n",
        "result_5_1"
      ]
    },
    {
      "cell_type": "markdown",
      "id": "68377cfc-b378-43dc-ab7d-1195abf2c515",
      "metadata": {
        "id": "68377cfc-b378-43dc-ab7d-1195abf2c515"
      },
      "source": [
        "2. Напишите запрос, который для каждого региона выведет количество работодателей и вакансий в нём.\n",
        "Среди регионов, в которых нет вакансий, найдите тот, в котором наибольшее количество работодателей.\n"
      ]
    },
    {
      "cell_type": "code",
      "execution_count": 25,
      "id": "dd7df27a-e3e8-412e-a21a-5d389b71e891",
      "metadata": {
        "id": "dd7df27a-e3e8-412e-a21a-5d389b71e891"
      },
      "outputs": [],
      "source": [
        "# текст запроса\n",
        "query_5_2 = f'''\n",
        "select \n",
        "    a.*,\n",
        "    count(e.id) as e_cnt, -- количество работодателей\n",
        "    count(v.id) as v_cnt -- количество вакансий\n",
        "from areas a\n",
        "    left join employers e on a.id=e.area\n",
        "    left join vacancies v on a.id=v.area_id\n",
        "group by a.id\n",
        "order by v_cnt, e_cnt desc\n",
        "'''"
      ]
    },
    {
      "cell_type": "code",
      "execution_count": 26,
      "id": "x1ikWbydrbf6",
      "metadata": {
        "id": "x1ikWbydrbf6"
      },
      "outputs": [
        {
          "data": {
            "application/vnd.microsoft.datawrangler.viewer.v0+json": {
              "columns": [
                {
                  "name": "index",
                  "rawType": "int64",
                  "type": "integer"
                },
                {
                  "name": "id",
                  "rawType": "int64",
                  "type": "integer"
                },
                {
                  "name": "name",
                  "rawType": "object",
                  "type": "string"
                },
                {
                  "name": "e_cnt",
                  "rawType": "int64",
                  "type": "integer"
                },
                {
                  "name": "v_cnt",
                  "rawType": "int64",
                  "type": "integer"
                }
              ],
              "conversionMethod": "pd.DataFrame",
              "ref": "10ca973f-9d61-4417-86ac-07a6c3c0133b",
              "rows": [
                [
                  "0",
                  "113",
                  "Россия",
                  "410",
                  "0"
                ],
                [
                  "1",
                  "40",
                  "Казахстан",
                  "207",
                  "0"
                ],
                [
                  "2",
                  "2019",
                  "Московская область",
                  "75",
                  "0"
                ],
                [
                  "3",
                  "1438",
                  "Краснодарский край",
                  "19",
                  "0"
                ],
                [
                  "4",
                  "16",
                  "Беларусь",
                  "18",
                  "0"
                ],
                [
                  "5",
                  "1530",
                  "Ростовская область",
                  "18",
                  "0"
                ],
                [
                  "6",
                  "9",
                  "Азербайджан",
                  "17",
                  "0"
                ],
                [
                  "7",
                  "1624",
                  "Республика Татарстан",
                  "16",
                  "0"
                ],
                [
                  "8",
                  "1679",
                  "Нижегородская область",
                  "16",
                  "0"
                ],
                [
                  "9",
                  "97",
                  "Узбекистан",
                  "15",
                  "0"
                ],
                [
                  "10",
                  "1817",
                  "Белгородская область",
                  "10",
                  "0"
                ],
                [
                  "11",
                  "233",
                  "Сингапур",
                  "10",
                  "0"
                ],
                [
                  "12",
                  "145",
                  "Ленинградская область",
                  "9",
                  "0"
                ],
                [
                  "13",
                  "1859",
                  "Калужская область",
                  "9",
                  "0"
                ],
                [
                  "14",
                  "1586",
                  "Самарская область",
                  "7",
                  "0"
                ],
                [
                  "15",
                  "1844",
                  "Воронежская область",
                  "7",
                  "0"
                ],
                [
                  "16",
                  "1661",
                  "Кировская область",
                  "6",
                  "0"
                ],
                [
                  "17",
                  "1614",
                  "Ульяновская область",
                  "6",
                  "0"
                ],
                [
                  "18",
                  "6",
                  "Австралия",
                  "6",
                  "0"
                ],
                [
                  "19",
                  "48",
                  "Кыргызстан",
                  "6",
                  "0"
                ],
                [
                  "20",
                  "1481",
                  "Ставропольский край",
                  "6",
                  "0"
                ],
                [
                  "21",
                  "108",
                  "Швейцария",
                  "5",
                  "0"
                ],
                [
                  "22",
                  "1754",
                  "Ивановская область",
                  "5",
                  "0"
                ],
                [
                  "23",
                  "1890",
                  "Липецкая область",
                  "5",
                  "0"
                ],
                [
                  "24",
                  "1202",
                  "Новосибирская область",
                  "5",
                  "0"
                ],
                [
                  "25",
                  "45",
                  "Канада",
                  "5",
                  "0"
                ],
                [
                  "26",
                  "1913",
                  "Тульская область",
                  "5",
                  "0"
                ],
                [
                  "27",
                  "1261",
                  "Свердловская область",
                  "4",
                  "0"
                ],
                [
                  "28",
                  "1511",
                  "Волгоградская область",
                  "4",
                  "0"
                ],
                [
                  "29",
                  "1652",
                  "Чувашская Республика",
                  "4",
                  "0"
                ],
                [
                  "30",
                  "1124",
                  "Иркутская область",
                  "4",
                  "0"
                ],
                [
                  "31",
                  "2114",
                  "Республика Крым",
                  "4",
                  "0"
                ],
                [
                  "32",
                  "1575",
                  "Пензенская область",
                  "4",
                  "0"
                ],
                [
                  "33",
                  "1229",
                  "Кемеровская область",
                  "4",
                  "0"
                ],
                [
                  "34",
                  "1704",
                  "Рязанская область",
                  "4",
                  "0"
                ],
                [
                  "35",
                  "2237",
                  "Минская область",
                  "3",
                  "0"
                ],
                [
                  "36",
                  "1217",
                  "Алтайский край",
                  "3",
                  "0"
                ],
                [
                  "37",
                  "1146",
                  "Красноярский край",
                  "3",
                  "0"
                ],
                [
                  "38",
                  "1001",
                  "Другие регионы",
                  "3",
                  "0"
                ],
                [
                  "39",
                  "1806",
                  "Ярославская область",
                  "3",
                  "0"
                ],
                [
                  "40",
                  "1646",
                  "Удмуртская Республика",
                  "3",
                  "0"
                ],
                [
                  "41",
                  "1317",
                  "Пермский край",
                  "3",
                  "0"
                ],
                [
                  "42",
                  "1771",
                  "Костромская область",
                  "3",
                  "0"
                ],
                [
                  "43",
                  "1255",
                  "Томская область",
                  "3",
                  "0"
                ],
                [
                  "44",
                  "1716",
                  "Владимирская область",
                  "3",
                  "0"
                ],
                [
                  "45",
                  "1020",
                  "Калининградская область",
                  "3",
                  "0"
                ],
                [
                  "46",
                  "2099",
                  "Юбилейный (Московская область)",
                  "2",
                  "0"
                ],
                [
                  "47",
                  "1263",
                  "Арамиль",
                  "2",
                  "0"
                ],
                [
                  "48",
                  "28",
                  "Грузия",
                  "2",
                  "0"
                ],
                [
                  "49",
                  "214",
                  "Дудинка (Красноярский край)",
                  "2",
                  "0"
                ]
              ],
              "shape": {
                "columns": 4,
                "rows": 1362
              }
            },
            "text/html": [
              "<div>\n",
              "<style scoped>\n",
              "    .dataframe tbody tr th:only-of-type {\n",
              "        vertical-align: middle;\n",
              "    }\n",
              "\n",
              "    .dataframe tbody tr th {\n",
              "        vertical-align: top;\n",
              "    }\n",
              "\n",
              "    .dataframe thead th {\n",
              "        text-align: right;\n",
              "    }\n",
              "</style>\n",
              "<table border=\"1\" class=\"dataframe\">\n",
              "  <thead>\n",
              "    <tr style=\"text-align: right;\">\n",
              "      <th></th>\n",
              "      <th>id</th>\n",
              "      <th>name</th>\n",
              "      <th>e_cnt</th>\n",
              "      <th>v_cnt</th>\n",
              "    </tr>\n",
              "  </thead>\n",
              "  <tbody>\n",
              "    <tr>\n",
              "      <th>0</th>\n",
              "      <td>113</td>\n",
              "      <td>Россия</td>\n",
              "      <td>410</td>\n",
              "      <td>0</td>\n",
              "    </tr>\n",
              "    <tr>\n",
              "      <th>1</th>\n",
              "      <td>40</td>\n",
              "      <td>Казахстан</td>\n",
              "      <td>207</td>\n",
              "      <td>0</td>\n",
              "    </tr>\n",
              "    <tr>\n",
              "      <th>2</th>\n",
              "      <td>2019</td>\n",
              "      <td>Московская область</td>\n",
              "      <td>75</td>\n",
              "      <td>0</td>\n",
              "    </tr>\n",
              "    <tr>\n",
              "      <th>3</th>\n",
              "      <td>1438</td>\n",
              "      <td>Краснодарский край</td>\n",
              "      <td>19</td>\n",
              "      <td>0</td>\n",
              "    </tr>\n",
              "    <tr>\n",
              "      <th>4</th>\n",
              "      <td>16</td>\n",
              "      <td>Беларусь</td>\n",
              "      <td>18</td>\n",
              "      <td>0</td>\n",
              "    </tr>\n",
              "    <tr>\n",
              "      <th>...</th>\n",
              "      <td>...</td>\n",
              "      <td>...</td>\n",
              "      <td>...</td>\n",
              "      <td>...</td>\n",
              "    </tr>\n",
              "    <tr>\n",
              "      <th>1357</th>\n",
              "      <td>4</td>\n",
              "      <td>Новосибирск</td>\n",
              "      <td>1149438</td>\n",
              "      <td>1149438</td>\n",
              "    </tr>\n",
              "    <tr>\n",
              "      <th>1358</th>\n",
              "      <td>160</td>\n",
              "      <td>Алматы</td>\n",
              "      <td>1364132</td>\n",
              "      <td>1364132</td>\n",
              "    </tr>\n",
              "    <tr>\n",
              "      <th>1359</th>\n",
              "      <td>1002</td>\n",
              "      <td>Минск</td>\n",
              "      <td>2354880</td>\n",
              "      <td>2354880</td>\n",
              "    </tr>\n",
              "    <tr>\n",
              "      <th>1360</th>\n",
              "      <td>2</td>\n",
              "      <td>Санкт-Петербург</td>\n",
              "      <td>6320667</td>\n",
              "      <td>6320667</td>\n",
              "    </tr>\n",
              "    <tr>\n",
              "      <th>1361</th>\n",
              "      <td>1</td>\n",
              "      <td>Москва</td>\n",
              "      <td>31272712</td>\n",
              "      <td>31272712</td>\n",
              "    </tr>\n",
              "  </tbody>\n",
              "</table>\n",
              "<p>1362 rows × 4 columns</p>\n",
              "</div>"
            ],
            "text/plain": [
              "        id                name     e_cnt     v_cnt\n",
              "0      113              Россия       410         0\n",
              "1       40           Казахстан       207         0\n",
              "2     2019  Московская область        75         0\n",
              "3     1438  Краснодарский край        19         0\n",
              "4       16            Беларусь        18         0\n",
              "...    ...                 ...       ...       ...\n",
              "1357     4         Новосибирск   1149438   1149438\n",
              "1358   160              Алматы   1364132   1364132\n",
              "1359  1002               Минск   2354880   2354880\n",
              "1360     2     Санкт-Петербург   6320667   6320667\n",
              "1361     1              Москва  31272712  31272712\n",
              "\n",
              "[1362 rows x 4 columns]"
            ]
          },
          "execution_count": 26,
          "metadata": {},
          "output_type": "execute_result"
        }
      ],
      "source": [
        "# результат запроса\n",
        "result_5_2 = pd.read_sql_query(query_5_2, connection)\n",
        "result_5_2"
      ]
    },
    {
      "cell_type": "markdown",
      "id": "f2fe0acb-ab1a-4e15-9326-2560e22d73c1",
      "metadata": {
        "id": "f2fe0acb-ab1a-4e15-9326-2560e22d73c1"
      },
      "source": [
        "3. Для каждого работодателя посчитайте количество регионов, в которых он публикует свои вакансии. Отсортируйте результат по убыванию количества.\n"
      ]
    },
    {
      "cell_type": "code",
      "execution_count": 27,
      "id": "6271f8ad-bd2e-4196-ae4a-5b39c4c1010e",
      "metadata": {
        "id": "6271f8ad-bd2e-4196-ae4a-5b39c4c1010e"
      },
      "outputs": [],
      "source": [
        "# текст запроса\n",
        "query_5_3 = f'''\n",
        "select \n",
        "    e.*,\n",
        "    count(distinct v.area_id) as area_cnt -- количество уникальных регионов\n",
        "from employers e \n",
        "    join vacancies v on e.id=v.employer_id\n",
        "group by e.id\n",
        "order by area_cnt desc\n",
        "'''"
      ]
    },
    {
      "cell_type": "code",
      "execution_count": 28,
      "id": "1EIvX3HasH4F",
      "metadata": {
        "id": "1EIvX3HasH4F"
      },
      "outputs": [
        {
          "data": {
            "application/vnd.microsoft.datawrangler.viewer.v0+json": {
              "columns": [
                {
                  "name": "index",
                  "rawType": "int64",
                  "type": "integer"
                },
                {
                  "name": "id",
                  "rawType": "int64",
                  "type": "integer"
                },
                {
                  "name": "name",
                  "rawType": "object",
                  "type": "string"
                },
                {
                  "name": "area",
                  "rawType": "int64",
                  "type": "integer"
                },
                {
                  "name": "area_cnt",
                  "rawType": "int64",
                  "type": "integer"
                }
              ],
              "conversionMethod": "pd.DataFrame",
              "ref": "63c41615-8375-4ae6-9f39-0502917f8a45",
              "rows": [
                [
                  "0",
                  "1740",
                  "Яндекс",
                  "1",
                  "181"
                ],
                [
                  "1",
                  "2748",
                  "Ростелеком",
                  "1",
                  "152"
                ],
                [
                  "2",
                  "5724811",
                  "Спецремонт",
                  "2",
                  "116"
                ],
                [
                  "3",
                  "5130287",
                  "Поляков Денис Иванович",
                  "22",
                  "88"
                ],
                [
                  "4",
                  "3682876",
                  "ООО ЕФИН ",
                  "1",
                  "71"
                ],
                [
                  "5",
                  "7944",
                  "Совкомбанк",
                  "1",
                  "63"
                ],
                [
                  "6",
                  "3776",
                  "МТС",
                  "1",
                  "55"
                ],
                [
                  "7",
                  "53797",
                  "ЭФКО, Управляющая компания",
                  "26",
                  "49"
                ],
                [
                  "8",
                  "3776815",
                  "КРОН",
                  "1",
                  "48"
                ],
                [
                  "9",
                  "4352",
                  "Почта России",
                  "1",
                  "48"
                ],
                [
                  "10",
                  "622121",
                  "MCORE",
                  "1",
                  "46"
                ],
                [
                  "11",
                  "197135",
                  "ИК СИБИНТЕК",
                  "113",
                  "46"
                ],
                [
                  "12",
                  "1473866",
                  "Сбербанк-Сервис",
                  "1",
                  "45"
                ],
                [
                  "13",
                  "1947314",
                  "ANCOR",
                  "1",
                  "44"
                ],
                [
                  "14",
                  "3177",
                  "Первый Бит",
                  "1",
                  "43"
                ],
                [
                  "15",
                  "78638",
                  "Тинькофф",
                  "1",
                  "43"
                ],
                [
                  "16",
                  "213349",
                  "АЛНАС",
                  "88",
                  "41"
                ],
                [
                  "17",
                  "2180",
                  "Ozon",
                  "1",
                  "36"
                ],
                [
                  "18",
                  "139",
                  "IBS",
                  "1",
                  "36"
                ],
                [
                  "19",
                  "84585",
                  "Авито",
                  "113",
                  "35"
                ],
                [
                  "20",
                  "1237073",
                  "АТМ АЛЬЯНС",
                  "51",
                  "34"
                ],
                [
                  "21",
                  "4872",
                  "Т1 Интеграция",
                  "1",
                  "34"
                ],
                [
                  "22",
                  "44272",
                  "ЭР-Телеком",
                  "72",
                  "33"
                ],
                [
                  "23",
                  "733",
                  "ЛАНИТ",
                  "1",
                  "29"
                ],
                [
                  "24",
                  "172",
                  "1C-Рарус",
                  "1",
                  "28"
                ],
                [
                  "25",
                  "1035394",
                  "Красное & Белое, розничная сеть",
                  "104",
                  "27"
                ],
                [
                  "26",
                  "5382804",
                  "Volna.tech",
                  "1",
                  "27"
                ],
                [
                  "27",
                  "6189",
                  "Bell Integrator",
                  "113",
                  "26"
                ],
                [
                  "28",
                  "5390761",
                  "Совкомбанк Технологии",
                  "1",
                  "26"
                ],
                [
                  "29",
                  "2381",
                  "Softline",
                  "1",
                  "25"
                ],
                [
                  "30",
                  "67611",
                  "Тензор",
                  "112",
                  "25"
                ],
                [
                  "31",
                  "49357",
                  "МАГНИТ, Розничная сеть",
                  "53",
                  "25"
                ],
                [
                  "32",
                  "1864933",
                  "Филиал ФКУ Налог-Сервис ФНС России по ЦОД в г.Москве",
                  "1",
                  "25"
                ],
                [
                  "33",
                  "2343",
                  "Спортмастер",
                  "1",
                  "25"
                ],
                [
                  "34",
                  "114448",
                  "Playrix",
                  "25",
                  "25"
                ],
                [
                  "35",
                  "4181",
                  "Банк ВТБ (ПАО)",
                  "1",
                  "24"
                ],
                [
                  "36",
                  "39305",
                  "Газпром нефть",
                  "2",
                  "24"
                ],
                [
                  "37",
                  "3529",
                  "СБЕР",
                  "1",
                  "24"
                ],
                [
                  "38",
                  "909194",
                  "Нэти",
                  "88",
                  "24"
                ],
                [
                  "39",
                  "10042",
                  "Sumitec International",
                  "1",
                  "23"
                ],
                [
                  "40",
                  "1512281",
                  "«Аксиома-Софт»",
                  "1",
                  "23"
                ],
                [
                  "41",
                  "4903713",
                  "Диалог Регионы",
                  "1",
                  "23"
                ],
                [
                  "42",
                  "3127",
                  "МегаФон",
                  "1",
                  "23"
                ],
                [
                  "43",
                  "1025275",
                  "Сеть магазинов цифровой и бытовой техники DNS",
                  "22",
                  "23"
                ],
                [
                  "44",
                  "1648566",
                  "Консалтинг Групп",
                  "96",
                  "23"
                ],
                [
                  "45",
                  "58320",
                  "Россельхозбанк",
                  "1",
                  "22"
                ],
                [
                  "46",
                  "36575",
                  "Российская телевизионная и радиовещательная сеть, ФГУП",
                  "1",
                  "22"
                ],
                [
                  "47",
                  "53879",
                  "ITooLabs",
                  "113",
                  "21"
                ],
                [
                  "48",
                  "11463",
                  "Homework",
                  "2",
                  "21"
                ],
                [
                  "49",
                  "981",
                  "Калашников",
                  "96",
                  "21"
                ]
              ],
              "shape": {
                "columns": 4,
                "rows": 14906
              }
            },
            "text/html": [
              "<div>\n",
              "<style scoped>\n",
              "    .dataframe tbody tr th:only-of-type {\n",
              "        vertical-align: middle;\n",
              "    }\n",
              "\n",
              "    .dataframe tbody tr th {\n",
              "        vertical-align: top;\n",
              "    }\n",
              "\n",
              "    .dataframe thead th {\n",
              "        text-align: right;\n",
              "    }\n",
              "</style>\n",
              "<table border=\"1\" class=\"dataframe\">\n",
              "  <thead>\n",
              "    <tr style=\"text-align: right;\">\n",
              "      <th></th>\n",
              "      <th>id</th>\n",
              "      <th>name</th>\n",
              "      <th>area</th>\n",
              "      <th>area_cnt</th>\n",
              "    </tr>\n",
              "  </thead>\n",
              "  <tbody>\n",
              "    <tr>\n",
              "      <th>0</th>\n",
              "      <td>1740</td>\n",
              "      <td>Яндекс</td>\n",
              "      <td>1</td>\n",
              "      <td>181</td>\n",
              "    </tr>\n",
              "    <tr>\n",
              "      <th>1</th>\n",
              "      <td>2748</td>\n",
              "      <td>Ростелеком</td>\n",
              "      <td>1</td>\n",
              "      <td>152</td>\n",
              "    </tr>\n",
              "    <tr>\n",
              "      <th>2</th>\n",
              "      <td>5724811</td>\n",
              "      <td>Спецремонт</td>\n",
              "      <td>2</td>\n",
              "      <td>116</td>\n",
              "    </tr>\n",
              "    <tr>\n",
              "      <th>3</th>\n",
              "      <td>5130287</td>\n",
              "      <td>Поляков Денис Иванович</td>\n",
              "      <td>22</td>\n",
              "      <td>88</td>\n",
              "    </tr>\n",
              "    <tr>\n",
              "      <th>4</th>\n",
              "      <td>3682876</td>\n",
              "      <td>ООО ЕФИН</td>\n",
              "      <td>1</td>\n",
              "      <td>71</td>\n",
              "    </tr>\n",
              "    <tr>\n",
              "      <th>...</th>\n",
              "      <td>...</td>\n",
              "      <td>...</td>\n",
              "      <td>...</td>\n",
              "      <td>...</td>\n",
              "    </tr>\n",
              "    <tr>\n",
              "      <th>14901</th>\n",
              "      <td>810278</td>\n",
              "      <td>НПП Авиатрон</td>\n",
              "      <td>99</td>\n",
              "      <td>1</td>\n",
              "    </tr>\n",
              "    <tr>\n",
              "      <th>14902</th>\n",
              "      <td>810313</td>\n",
              "      <td>Центр дистанционных торгов</td>\n",
              "      <td>88</td>\n",
              "      <td>1</td>\n",
              "    </tr>\n",
              "    <tr>\n",
              "      <th>14903</th>\n",
              "      <td>810551</td>\n",
              "      <td>Городские Телекоммуникационные Системы</td>\n",
              "      <td>49</td>\n",
              "      <td>1</td>\n",
              "    </tr>\n",
              "    <tr>\n",
              "      <th>14904</th>\n",
              "      <td>810688</td>\n",
              "      <td>Введенский, Отель</td>\n",
              "      <td>2</td>\n",
              "      <td>1</td>\n",
              "    </tr>\n",
              "    <tr>\n",
              "      <th>14905</th>\n",
              "      <td>811902</td>\n",
              "      <td>Группа Компаний Автоимпорт</td>\n",
              "      <td>77</td>\n",
              "      <td>1</td>\n",
              "    </tr>\n",
              "  </tbody>\n",
              "</table>\n",
              "<p>14906 rows × 4 columns</p>\n",
              "</div>"
            ],
            "text/plain": [
              "            id                                    name  area  area_cnt\n",
              "0         1740                                  Яндекс     1       181\n",
              "1         2748                              Ростелеком     1       152\n",
              "2      5724811                              Спецремонт     2       116\n",
              "3      5130287                  Поляков Денис Иванович    22        88\n",
              "4      3682876                               ООО ЕФИН      1        71\n",
              "...        ...                                     ...   ...       ...\n",
              "14901   810278                            НПП Авиатрон    99         1\n",
              "14902   810313              Центр дистанционных торгов    88         1\n",
              "14903   810551  Городские Телекоммуникационные Системы    49         1\n",
              "14904   810688                       Введенский, Отель     2         1\n",
              "14905   811902              Группа Компаний Автоимпорт    77         1\n",
              "\n",
              "[14906 rows x 4 columns]"
            ]
          },
          "execution_count": 28,
          "metadata": {},
          "output_type": "execute_result"
        }
      ],
      "source": [
        "# результат запроса\n",
        "result_5_3 = pd.read_sql_query(query_5_3, connection)\n",
        "result_5_3"
      ]
    },
    {
      "cell_type": "markdown",
      "id": "eab2206d-d95b-468b-8e5f-34381abf0ce7",
      "metadata": {
        "id": "eab2206d-d95b-468b-8e5f-34381abf0ce7"
      },
      "source": [
        "4. Напишите запрос для подсчёта количества работодателей, у которых не указана сфера деятельности. "
      ]
    },
    {
      "cell_type": "code",
      "execution_count": 29,
      "id": "80defb23-bfb1-4a18-8be6-bf36aa7165d5",
      "metadata": {
        "id": "80defb23-bfb1-4a18-8be6-bf36aa7165d5"
      },
      "outputs": [],
      "source": [
        "# текст запроса\n",
        "query_5_4 = f'''\n",
        "select \n",
        "    count(*)\n",
        "from employers e \n",
        "    left join employers_industries ei on e.id=ei.employer_id\n",
        "where industry_id is null\n",
        "'''"
      ]
    },
    {
      "cell_type": "code",
      "execution_count": 30,
      "id": "Dp_yCx6ysQSu",
      "metadata": {
        "id": "Dp_yCx6ysQSu"
      },
      "outputs": [
        {
          "data": {
            "text/plain": [
              "8419"
            ]
          },
          "execution_count": 30,
          "metadata": {},
          "output_type": "execute_result"
        }
      ],
      "source": [
        "# результат запроса\n",
        "result_5_4 = pd.read_sql_query(query_5_4, connection).iloc[0, 0]\n",
        "result_5_4"
      ]
    },
    {
      "cell_type": "markdown",
      "id": "0112af31-f6b0-4e3b-82ab-71296e752e5e",
      "metadata": {
        "id": "0112af31-f6b0-4e3b-82ab-71296e752e5e"
      },
      "source": [
        "5. Напишите запрос, чтобы узнать название компании, находящейся на третьем месте в алфавитном списке (по названию) компаний, у которых указано четыре сферы деятельности. "
      ]
    },
    {
      "cell_type": "code",
      "execution_count": 31,
      "id": "973b0cfc-a972-470a-8b4a-68744ef220c4",
      "metadata": {
        "id": "973b0cfc-a972-470a-8b4a-68744ef220c4"
      },
      "outputs": [],
      "source": [
        "# текст запроса\n",
        "query_5_5 = f'''\n",
        "select \n",
        "    e.*,\n",
        "    count(ei.industry_id) as ind_cnt\n",
        "from employers_industries ei \n",
        "    left join employers e on e.id=ei.employer_id\n",
        "    left join industries i on i.id=ei.industry_id\n",
        "group by e.id\n",
        "having count(ei.industry_id) = 4 -- количество сфер деятельности\n",
        "order by ind_cnt desc, e.name\n",
        "'''"
      ]
    },
    {
      "cell_type": "code",
      "execution_count": 32,
      "id": "xsPtpp8EsaED",
      "metadata": {
        "id": "xsPtpp8EsaED"
      },
      "outputs": [
        {
          "data": {
            "application/vnd.microsoft.datawrangler.viewer.v0+json": {
              "columns": [
                {
                  "name": "index",
                  "rawType": "int64",
                  "type": "integer"
                },
                {
                  "name": "id",
                  "rawType": "int64",
                  "type": "integer"
                },
                {
                  "name": "name",
                  "rawType": "object",
                  "type": "string"
                },
                {
                  "name": "area",
                  "rawType": "int64",
                  "type": "integer"
                },
                {
                  "name": "ind_cnt",
                  "rawType": "int64",
                  "type": "integer"
                }
              ],
              "conversionMethod": "pd.DataFrame",
              "ref": "f830bda6-e4fd-43cf-a5ea-13f591247eaf",
              "rows": [
                [
                  "0",
                  "800646",
                  "101 Интернет",
                  "1",
                  "4"
                ],
                [
                  "1",
                  "763400",
                  "21vek.by",
                  "1002",
                  "4"
                ],
                [
                  "2",
                  "64174",
                  "2ГИС",
                  "4",
                  "4"
                ],
                [
                  "3",
                  "29890",
                  "2К",
                  "1",
                  "4"
                ],
                [
                  "4",
                  "1980996",
                  "4 пикселя +",
                  "1",
                  "4"
                ],
                [
                  "5",
                  "600071",
                  "5lb",
                  "1",
                  "4"
                ],
                [
                  "6",
                  "1506458",
                  "5 Армия",
                  "35",
                  "4"
                ],
                [
                  "7",
                  "150842",
                  "741 Studios",
                  "3",
                  "4"
                ],
                [
                  "8",
                  "2117880",
                  "AAEngineering Group",
                  "160",
                  "4"
                ],
                [
                  "9",
                  "1141648",
                  "ADAPTER",
                  "1",
                  "4"
                ],
                [
                  "10",
                  "1321508",
                  "AdCombo.com",
                  "1",
                  "4"
                ],
                [
                  "11",
                  "5047440",
                  "ADEXE (ИП Сафиуллин Рамиль Айратович)",
                  "88",
                  "4"
                ],
                [
                  "12",
                  "1128386",
                  "ADG group",
                  "1",
                  "4"
                ],
                [
                  "13",
                  "2655028",
                  "ADICT Group",
                  "35",
                  "4"
                ],
                [
                  "14",
                  "790022",
                  "Admitad",
                  "1",
                  "4"
                ],
                [
                  "15",
                  "2003705",
                  "ADM-Центр",
                  "1545",
                  "4"
                ],
                [
                  "16",
                  "139325",
                  "Advantica Recruitment | Advantica Automation",
                  "2",
                  "4"
                ],
                [
                  "17",
                  "2834726",
                  "AG Service",
                  "4",
                  "4"
                ],
                [
                  "18",
                  "2852681",
                  "Albero Family",
                  "12",
                  "4"
                ],
                [
                  "19",
                  "682627",
                  "Alee Software",
                  "2",
                  "4"
                ],
                [
                  "20",
                  "3923354",
                  "All Star Music",
                  "1",
                  "4"
                ],
                [
                  "21",
                  "3181864",
                  "Anthill Studio",
                  "237",
                  "4"
                ],
                [
                  "22",
                  "25870",
                  "Apple City Corps",
                  "160",
                  "4"
                ],
                [
                  "23",
                  "2036889",
                  "AppLife Limited",
                  "236",
                  "4"
                ],
                [
                  "24",
                  "3380507",
                  "AppQuantum",
                  "1",
                  "4"
                ],
                [
                  "25",
                  "63085",
                  "ARCADA",
                  "40",
                  "4"
                ],
                [
                  "26",
                  "4306",
                  "AROUND, Группа компаний",
                  "1",
                  "4"
                ],
                [
                  "27",
                  "577392",
                  "Arsenal",
                  "2",
                  "4"
                ],
                [
                  "28",
                  "60544",
                  "Arvato",
                  "112",
                  "4"
                ],
                [
                  "29",
                  "1390864",
                  "ARYA HOME",
                  "1",
                  "4"
                ],
                [
                  "30",
                  "5428084",
                  "A Soft",
                  "113",
                  "4"
                ],
                [
                  "31",
                  "1090454",
                  "Astek-auto",
                  "159",
                  "4"
                ],
                [
                  "32",
                  "743815",
                  "ASTER AUTO",
                  "160",
                  "4"
                ],
                [
                  "33",
                  "3879789",
                  "ASTERUS (ООО ВХД Менеджмент)",
                  "1",
                  "4"
                ],
                [
                  "34",
                  "4443064",
                  "Atlas Chain",
                  "1",
                  "4"
                ],
                [
                  "35",
                  "4131",
                  "Avilon Group",
                  "1",
                  "4"
                ],
                [
                  "36",
                  "572549",
                  "AxisPoint Consulting",
                  "2",
                  "4"
                ],
                [
                  "37",
                  "1605297",
                  "B2Basket.ru",
                  "1",
                  "4"
                ],
                [
                  "38",
                  "3043736",
                  "B2B-creative",
                  "88",
                  "4"
                ],
                [
                  "39",
                  "37955",
                  "Bergauf",
                  "3",
                  "4"
                ],
                [
                  "40",
                  "3676959",
                  "BHV Tech Development / Би Эйч Ви Тэк Девелопмент",
                  "1002",
                  "4"
                ],
                [
                  "41",
                  "872473",
                  "BIGCAR",
                  "1438",
                  "4"
                ],
                [
                  "42",
                  "138327",
                  "Bonava",
                  "2",
                  "4"
                ],
                [
                  "43",
                  "51119",
                  "Bonduelle",
                  "1438",
                  "4"
                ],
                [
                  "44",
                  "6006873",
                  "BORD",
                  "160",
                  "4"
                ],
                [
                  "45",
                  "3314027",
                  "BOSTON",
                  "24",
                  "4"
                ],
                [
                  "46",
                  "675098",
                  "Bright Rich | CORFAC International",
                  "1",
                  "4"
                ],
                [
                  "47",
                  "5056708",
                  "BTC KZ",
                  "160",
                  "4"
                ],
                [
                  "48",
                  "64826",
                  "BWT",
                  "1",
                  "4"
                ],
                [
                  "49",
                  "4551663",
                  "Cainiao",
                  "1",
                  "4"
                ]
              ],
              "shape": {
                "columns": 4,
                "rows": 1138
              }
            },
            "text/html": [
              "<div>\n",
              "<style scoped>\n",
              "    .dataframe tbody tr th:only-of-type {\n",
              "        vertical-align: middle;\n",
              "    }\n",
              "\n",
              "    .dataframe tbody tr th {\n",
              "        vertical-align: top;\n",
              "    }\n",
              "\n",
              "    .dataframe thead th {\n",
              "        text-align: right;\n",
              "    }\n",
              "</style>\n",
              "<table border=\"1\" class=\"dataframe\">\n",
              "  <thead>\n",
              "    <tr style=\"text-align: right;\">\n",
              "      <th></th>\n",
              "      <th>id</th>\n",
              "      <th>name</th>\n",
              "      <th>area</th>\n",
              "      <th>ind_cnt</th>\n",
              "    </tr>\n",
              "  </thead>\n",
              "  <tbody>\n",
              "    <tr>\n",
              "      <th>0</th>\n",
              "      <td>800646</td>\n",
              "      <td>101 Интернет</td>\n",
              "      <td>1</td>\n",
              "      <td>4</td>\n",
              "    </tr>\n",
              "    <tr>\n",
              "      <th>1</th>\n",
              "      <td>763400</td>\n",
              "      <td>21vek.by</td>\n",
              "      <td>1002</td>\n",
              "      <td>4</td>\n",
              "    </tr>\n",
              "    <tr>\n",
              "      <th>2</th>\n",
              "      <td>64174</td>\n",
              "      <td>2ГИС</td>\n",
              "      <td>4</td>\n",
              "      <td>4</td>\n",
              "    </tr>\n",
              "    <tr>\n",
              "      <th>3</th>\n",
              "      <td>29890</td>\n",
              "      <td>2К</td>\n",
              "      <td>1</td>\n",
              "      <td>4</td>\n",
              "    </tr>\n",
              "    <tr>\n",
              "      <th>4</th>\n",
              "      <td>1980996</td>\n",
              "      <td>4 пикселя +</td>\n",
              "      <td>1</td>\n",
              "      <td>4</td>\n",
              "    </tr>\n",
              "    <tr>\n",
              "      <th>...</th>\n",
              "      <td>...</td>\n",
              "      <td>...</td>\n",
              "      <td>...</td>\n",
              "      <td>...</td>\n",
              "    </tr>\n",
              "    <tr>\n",
              "      <th>1133</th>\n",
              "      <td>24365</td>\n",
              "      <td>ЮРИОН</td>\n",
              "      <td>113</td>\n",
              "      <td>4</td>\n",
              "    </tr>\n",
              "    <tr>\n",
              "      <th>1134</th>\n",
              "      <td>863335</td>\n",
              "      <td>ЮТИП Технологии</td>\n",
              "      <td>72</td>\n",
              "      <td>4</td>\n",
              "    </tr>\n",
              "    <tr>\n",
              "      <th>1135</th>\n",
              "      <td>1430484</td>\n",
              "      <td>ЯКласс</td>\n",
              "      <td>2077</td>\n",
              "      <td>4</td>\n",
              "    </tr>\n",
              "    <tr>\n",
              "      <th>1136</th>\n",
              "      <td>1620049</td>\n",
              "      <td>ЯрНео</td>\n",
              "      <td>112</td>\n",
              "      <td>4</td>\n",
              "    </tr>\n",
              "    <tr>\n",
              "      <th>1137</th>\n",
              "      <td>2091839</td>\n",
              "      <td>Яшин&amp;Партнёры</td>\n",
              "      <td>1</td>\n",
              "      <td>4</td>\n",
              "    </tr>\n",
              "  </tbody>\n",
              "</table>\n",
              "<p>1138 rows × 4 columns</p>\n",
              "</div>"
            ],
            "text/plain": [
              "           id             name  area  ind_cnt\n",
              "0      800646     101 Интернет     1        4\n",
              "1      763400         21vek.by  1002        4\n",
              "2       64174             2ГИС     4        4\n",
              "3       29890               2К     1        4\n",
              "4     1980996      4 пикселя +     1        4\n",
              "...       ...              ...   ...      ...\n",
              "1133    24365            ЮРИОН   113        4\n",
              "1134   863335  ЮТИП Технологии    72        4\n",
              "1135  1430484           ЯКласс  2077        4\n",
              "1136  1620049            ЯрНео   112        4\n",
              "1137  2091839    Яшин&Партнёры     1        4\n",
              "\n",
              "[1138 rows x 4 columns]"
            ]
          },
          "execution_count": 32,
          "metadata": {},
          "output_type": "execute_result"
        }
      ],
      "source": [
        "# результат запроса\n",
        "result_5_5 = pd.read_sql_query(query_5_5, connection)\n",
        "result_5_5"
      ]
    },
    {
      "cell_type": "markdown",
      "id": "3bfcfdaf-755d-4d2b-8ed8-326201dc07ab",
      "metadata": {
        "id": "3bfcfdaf-755d-4d2b-8ed8-326201dc07ab"
      },
      "source": [
        "6. С помощью запроса выясните, у какого количества работодателей в качестве сферы деятельности указана Разработка программного обеспечения.\n"
      ]
    },
    {
      "cell_type": "code",
      "execution_count": 33,
      "id": "ad3f270f-2991-47eb-929b-e8f88a55b0d1",
      "metadata": {
        "id": "ad3f270f-2991-47eb-929b-e8f88a55b0d1"
      },
      "outputs": [],
      "source": [
        "# текст запроса\n",
        "query_5_6 = f'''\n",
        "select\n",
        "    count(distinct ei.employer_id)\n",
        "from employers_industries ei\n",
        "    join industries i on ei.industry_id=i.id\n",
        "where i.name='Разработка программного обеспечения'\n",
        "    \n",
        "'''"
      ]
    },
    {
      "cell_type": "code",
      "execution_count": 34,
      "id": "H72qxWM0shPR",
      "metadata": {
        "id": "H72qxWM0shPR"
      },
      "outputs": [
        {
          "data": {
            "text/plain": [
              "3553"
            ]
          },
          "execution_count": 34,
          "metadata": {},
          "output_type": "execute_result"
        }
      ],
      "source": [
        "# результат запроса\n",
        "result_5_6 = pd.read_sql_query(query_5_6, connection).iloc[0, 0]\n",
        "result_5_6"
      ]
    },
    {
      "cell_type": "markdown",
      "id": "7b02bb86-0546-40fb-94a4-242f050a5c57",
      "metadata": {
        "id": "7b02bb86-0546-40fb-94a4-242f050a5c57"
      },
      "source": [
        "7. Для компании «Яндекс» выведите список регионов-миллионников, в которых представлены вакансии компании, вместе с количеством вакансий в этих регионах. Также добавьте строку Total с общим количеством вакансий компании. Результат отсортируйте по возрастанию количества.\n",
        "\n",
        "Список городов-милионников надо взять [отсюда](https://ru.wikipedia.org/wiki/%D0%93%D0%BE%D1%80%D0%BE%D0%B4%D0%B0-%D0%BC%D0%B8%D0%BB%D0%BB%D0%B8%D0%BE%D0%BD%D0%B5%D1%80%D1%8B_%D0%A0%D0%BE%D1%81%D1%81%D0%B8%D0%B8). \n",
        "\n",
        "Если возникнут трудности с этим задание посмотрите материалы модуля  PYTHON-17. Как получать данные из веб-источников и API. "
      ]
    },
    {
      "cell_type": "code",
      "execution_count": 35,
      "id": "ZdfrL6gIs1Pn",
      "metadata": {
        "id": "ZdfrL6gIs1Pn"
      },
      "outputs": [
        {
          "name": "stdout",
          "output_type": "stream",
          "text": [
            "['Москва', 'Санкт-Петербург', 'Новосибирск', 'Екатеринбург', 'Казань', 'Красноярск', 'Нижний Новгород', 'Челябинск', 'Уфа', 'Краснодар', 'Самара', 'Ростов-на-Дону', 'Омск', 'Воронеж', 'Пермь', 'Волгоград']\n"
          ]
        }
      ],
      "source": [
        "# код для получения списка городов-милионников\n",
        "import requests\n",
        "from bs4 import BeautifulSoup\n",
        "\n",
        "response = requests.get('https://ru.wikipedia.org/wiki/%D0%93%D0%BE%D1%80%D0%BE%D0%B4%D0%B0-%D0%BC%D0%B8%D0%BB%D0%BB%D0%B8%D0%BE%D0%BD%D0%B5%D1%80%D1%8B_%D0%A0%D0%BE%D1%81%D1%81%D0%B8%D0%B8')\n",
        "soup = BeautifulSoup(response.content)\n",
        "\n",
        "millioner_cities = [city.text for city in soup.find('table', {'class':'standard sortable'}).find('tbody').find_all('a')[5:]]\n",
        "print(millioner_cities)"
      ]
    },
    {
      "cell_type": "code",
      "execution_count": 36,
      "id": "5a0e32a4-e68a-4365-8a39-2fe24c542c36",
      "metadata": {
        "id": "5a0e32a4-e68a-4365-8a39-2fe24c542c36"
      },
      "outputs": [],
      "source": [
        "# текст запроса\n",
        "query_5_7 = f'''\n",
        "-- Таблица с городами-миллионниками где \"Яндекс\" разместил вакансии\n",
        "with cities_cnt_vc as ( \n",
        "select\n",
        "    a.name as name,\n",
        "    count(*) as cnt\n",
        "from employers e\n",
        "    join vacancies v on e.id=v.employer_id\n",
        "    join areas a on a.id=v.area_id\n",
        "where e.name='Яндекс' and a.name in ({','.join(\"'\" + i + \"'\" for i in millioner_cities)}) \n",
        "group by a.name\n",
        "order by cnt)\n",
        "\n",
        "-- Добавление общего количества вакансий в конец таблицы\n",
        "select \n",
        "    * \n",
        "from cities_cnt_vc\n",
        "union all\n",
        "select\n",
        "    'Total' as name,\n",
        "    sum(cnt) as cnt\n",
        "from cities_cnt_vc\n",
        "'''"
      ]
    },
    {
      "cell_type": "code",
      "execution_count": 37,
      "id": "ttPhiO1rsvPq",
      "metadata": {
        "id": "ttPhiO1rsvPq"
      },
      "outputs": [
        {
          "data": {
            "application/vnd.microsoft.datawrangler.viewer.v0+json": {
              "columns": [
                {
                  "name": "index",
                  "rawType": "int64",
                  "type": "integer"
                },
                {
                  "name": "name",
                  "rawType": "object",
                  "type": "string"
                },
                {
                  "name": "cnt",
                  "rawType": "float64",
                  "type": "float"
                }
              ],
              "conversionMethod": "pd.DataFrame",
              "ref": "7eb4656f-817f-464d-b071-698b0ec292c5",
              "rows": [
                [
                  "0",
                  "Омск",
                  "21.0"
                ],
                [
                  "1",
                  "Челябинск",
                  "22.0"
                ],
                [
                  "2",
                  "Красноярск",
                  "23.0"
                ],
                [
                  "3",
                  "Волгоград",
                  "24.0"
                ],
                [
                  "4",
                  "Пермь",
                  "25.0"
                ],
                [
                  "5",
                  "Казань",
                  "25.0"
                ],
                [
                  "6",
                  "Ростов-на-Дону",
                  "25.0"
                ],
                [
                  "7",
                  "Уфа",
                  "26.0"
                ],
                [
                  "8",
                  "Самара",
                  "26.0"
                ],
                [
                  "9",
                  "Краснодар",
                  "30.0"
                ],
                [
                  "10",
                  "Воронеж",
                  "32.0"
                ],
                [
                  "11",
                  "Новосибирск",
                  "35.0"
                ],
                [
                  "12",
                  "Нижний Новгород",
                  "36.0"
                ],
                [
                  "13",
                  "Екатеринбург",
                  "39.0"
                ],
                [
                  "14",
                  "Санкт-Петербург",
                  "42.0"
                ],
                [
                  "15",
                  "Москва",
                  "54.0"
                ],
                [
                  "16",
                  "Total",
                  "485.0"
                ]
              ],
              "shape": {
                "columns": 2,
                "rows": 17
              }
            },
            "text/html": [
              "<div>\n",
              "<style scoped>\n",
              "    .dataframe tbody tr th:only-of-type {\n",
              "        vertical-align: middle;\n",
              "    }\n",
              "\n",
              "    .dataframe tbody tr th {\n",
              "        vertical-align: top;\n",
              "    }\n",
              "\n",
              "    .dataframe thead th {\n",
              "        text-align: right;\n",
              "    }\n",
              "</style>\n",
              "<table border=\"1\" class=\"dataframe\">\n",
              "  <thead>\n",
              "    <tr style=\"text-align: right;\">\n",
              "      <th></th>\n",
              "      <th>name</th>\n",
              "      <th>cnt</th>\n",
              "    </tr>\n",
              "  </thead>\n",
              "  <tbody>\n",
              "    <tr>\n",
              "      <th>0</th>\n",
              "      <td>Омск</td>\n",
              "      <td>21.0</td>\n",
              "    </tr>\n",
              "    <tr>\n",
              "      <th>1</th>\n",
              "      <td>Челябинск</td>\n",
              "      <td>22.0</td>\n",
              "    </tr>\n",
              "    <tr>\n",
              "      <th>2</th>\n",
              "      <td>Красноярск</td>\n",
              "      <td>23.0</td>\n",
              "    </tr>\n",
              "    <tr>\n",
              "      <th>3</th>\n",
              "      <td>Волгоград</td>\n",
              "      <td>24.0</td>\n",
              "    </tr>\n",
              "    <tr>\n",
              "      <th>4</th>\n",
              "      <td>Пермь</td>\n",
              "      <td>25.0</td>\n",
              "    </tr>\n",
              "    <tr>\n",
              "      <th>5</th>\n",
              "      <td>Казань</td>\n",
              "      <td>25.0</td>\n",
              "    </tr>\n",
              "    <tr>\n",
              "      <th>6</th>\n",
              "      <td>Ростов-на-Дону</td>\n",
              "      <td>25.0</td>\n",
              "    </tr>\n",
              "    <tr>\n",
              "      <th>7</th>\n",
              "      <td>Уфа</td>\n",
              "      <td>26.0</td>\n",
              "    </tr>\n",
              "    <tr>\n",
              "      <th>8</th>\n",
              "      <td>Самара</td>\n",
              "      <td>26.0</td>\n",
              "    </tr>\n",
              "    <tr>\n",
              "      <th>9</th>\n",
              "      <td>Краснодар</td>\n",
              "      <td>30.0</td>\n",
              "    </tr>\n",
              "    <tr>\n",
              "      <th>10</th>\n",
              "      <td>Воронеж</td>\n",
              "      <td>32.0</td>\n",
              "    </tr>\n",
              "    <tr>\n",
              "      <th>11</th>\n",
              "      <td>Новосибирск</td>\n",
              "      <td>35.0</td>\n",
              "    </tr>\n",
              "    <tr>\n",
              "      <th>12</th>\n",
              "      <td>Нижний Новгород</td>\n",
              "      <td>36.0</td>\n",
              "    </tr>\n",
              "    <tr>\n",
              "      <th>13</th>\n",
              "      <td>Екатеринбург</td>\n",
              "      <td>39.0</td>\n",
              "    </tr>\n",
              "    <tr>\n",
              "      <th>14</th>\n",
              "      <td>Санкт-Петербург</td>\n",
              "      <td>42.0</td>\n",
              "    </tr>\n",
              "    <tr>\n",
              "      <th>15</th>\n",
              "      <td>Москва</td>\n",
              "      <td>54.0</td>\n",
              "    </tr>\n",
              "    <tr>\n",
              "      <th>16</th>\n",
              "      <td>Total</td>\n",
              "      <td>485.0</td>\n",
              "    </tr>\n",
              "  </tbody>\n",
              "</table>\n",
              "</div>"
            ],
            "text/plain": [
              "               name    cnt\n",
              "0              Омск   21.0\n",
              "1         Челябинск   22.0\n",
              "2        Красноярск   23.0\n",
              "3         Волгоград   24.0\n",
              "4             Пермь   25.0\n",
              "5            Казань   25.0\n",
              "6    Ростов-на-Дону   25.0\n",
              "7               Уфа   26.0\n",
              "8            Самара   26.0\n",
              "9         Краснодар   30.0\n",
              "10          Воронеж   32.0\n",
              "11      Новосибирск   35.0\n",
              "12  Нижний Новгород   36.0\n",
              "13     Екатеринбург   39.0\n",
              "14  Санкт-Петербург   42.0\n",
              "15           Москва   54.0\n",
              "16            Total  485.0"
            ]
          },
          "execution_count": 37,
          "metadata": {},
          "output_type": "execute_result"
        }
      ],
      "source": [
        "# результат запроса\n",
        "result_5_7 = pd.read_sql_query(query_5_7, connection)\n",
        "result_5_7"
      ]
    },
    {
      "cell_type": "markdown",
      "id": "04966e40-3bc3-4dc8-9ba2-e80580ce3abc",
      "metadata": {
        "id": "04966e40-3bc3-4dc8-9ba2-e80580ce3abc"
      },
      "source": [
        "***"
      ]
    },
    {
      "cell_type": "markdown",
      "id": "b720b1d0",
      "metadata": {},
      "source": [
        "### Анализ работодателей:\n",
        "- Количество работодетелей у которых не указана сфера деятельности - 8419\n",
        "- Количество работодателей, в качестве сферы деятельности которых указана Разработка программного обеспечения - 3553"
      ]
    },
    {
      "cell_type": "code",
      "execution_count": 38,
      "id": "684a4240",
      "metadata": {},
      "outputs": [
        {
          "data": {
            "image/png": "[encoded data removed]"
          },
          "metadata": {},
          "output_type": "display_data"
        },
        {
          "data": {
            "image/png": "[encoded data removed]"
          },
          "metadata": {},
          "output_type": "display_data"
        }
      ],
      "source": [
        "fig = make_subplots(rows=1,cols=3, subplot_titles=[\n",
        "    'Топ-5 работодателей по количеству вакансий',\n",
        "    'Количество работодателей в регионах без вакансий',\n",
        "    'Количество регионов в которых<br>работодатели публикуют свои вакансии'\n",
        "])\n",
        "fig.add_trace(go.Bar(x=result_5_1['name'], y=result_5_1['vc_cnt']), row=1, col=1)\n",
        "fig.add_trace(go.Bar(x=result_5_2['name'][:10], y=result_5_2['e_cnt'][:10]), row=1, col=2)\n",
        "fig.add_trace(go.Bar(x=result_5_3['name'][:10], y=result_5_3['area_cnt'][:10]), row=1, col=3)\n",
        "fig.update_layout(\n",
        "    width=1600,\n",
        "    height=600,\n",
        "    margin=dict(t=80),\n",
        "    showlegend=False,\n",
        "    xaxis1_title_text='Работодатель',\n",
        "    yaxis1_title_text='Количество вакансий',\n",
        "    xaxis2_title_text='Регион',\n",
        "    yaxis2_title_text='Количество работодателей',\n",
        "    xaxis3_title_text='Компания',\n",
        "    yaxis3_title_text='Колиество регионов',\n",
        ")\n",
        "fig.show()\n",
        "\n",
        "fig = go.Figure()\n",
        "fig.add_trace(go.Bar(x=result_5_7['name'][:-1], y=result_5_7['cnt'][:-1]))\n",
        "fig.update_layout(\n",
        "    width=800,\n",
        "    height=600,\n",
        "    title=dict(x=0.5, text=f'Список городов-миллионников,<br>в которых представлены вакансии компании <b>\"Яндекс\"</b><br>Общее количество вакансий - <b>{round(result_5_7['cnt'].iloc[-1])}</b>'),\n",
        "    xaxis_title_text='Город-миллионник',\n",
        "    yaxis_title_text='Количество вакансий',\n",
        ")\n",
        "fig.show()\n"
      ]
    },
    {
      "cell_type": "markdown",
      "id": "cfc96725",
      "metadata": {},
      "source": [
        "### Выводы:\n",
        "- В 36% вакансий не указана сфера деятельности\n",
        "- В 15% вакансий в качестве сферы деятельности которых указана __Разработка программного обеспечения__\n",
        "- Компания \"Яндекс\" оставляет значительно больше вакансий остальных компаний и отдаёт приоритет городам-миллионикам "
      ]
    },
    {
      "cell_type": "markdown",
      "id": "b1ef156a-efcb-49ce-bb23-90763e7f35b2",
      "metadata": {
        "id": "b1ef156a-efcb-49ce-bb23-90763e7f35b2",
        "tags": []
      },
      "source": [
        "# Юнит 6. Предметный анализ"
      ]
    },
    {
      "cell_type": "markdown",
      "id": "b9cd50a0-992d-4988-8463-2b2b1c4629b4",
      "metadata": {
        "id": "b9cd50a0-992d-4988-8463-2b2b1c4629b4"
      },
      "source": [
        "1. Сколько вакансий имеет отношение к данным?\n",
        "\n",
        "Считаем, что вакансия имеет отношение к данным, если в её названии содержатся слова 'data' или 'данн'.\n",
        "\n",
        "*Подсказка: Обратите внимание, что названия вакансий могут быть написаны в любом регистре.* \n"
      ]
    },
    {
      "cell_type": "code",
      "execution_count": 39,
      "id": "54ab0e50-c0f1-47cc-a54b-bc5c8bc363f9",
      "metadata": {
        "id": "54ab0e50-c0f1-47cc-a54b-bc5c8bc363f9"
      },
      "outputs": [],
      "source": [
        "# текст запроса\n",
        "query_6_1 = f'''\n",
        "select \n",
        "    count(*)\n",
        "from vacancies\n",
        "where lower(name) like '%data%' or lower(name) like '%данн%'\n",
        "'''"
      ]
    },
    {
      "cell_type": "code",
      "execution_count": 40,
      "id": "9F1meAqsuUjd",
      "metadata": {
        "id": "9F1meAqsuUjd"
      },
      "outputs": [
        {
          "data": {
            "text/plain": [
              "1771"
            ]
          },
          "execution_count": 40,
          "metadata": {},
          "output_type": "execute_result"
        }
      ],
      "source": [
        "# результат запроса\n",
        "result_6_1 = pd.read_sql_query(query_6_1, connection).iloc[0, 0]\n",
        "result_6_1"
      ]
    },
    {
      "cell_type": "markdown",
      "id": "4dea20cb-a36b-474a-a0b9-e08e8e3857a5",
      "metadata": {
        "id": "4dea20cb-a36b-474a-a0b9-e08e8e3857a5"
      },
      "source": [
        "2. Сколько есть подходящих вакансий для начинающего дата-сайентиста? \n",
        "Будем считать вакансиями для дата-сайентистов такие, в названии которых есть хотя бы одно из следующих сочетаний:\n",
        "* 'data scientist'\n",
        "* 'data science'\n",
        "* 'исследователь данных'\n",
        "* 'ML' (здесь не нужно брать вакансии по HTML)\n",
        "* 'machine learning'\n",
        "* 'машинн%обучен%'\n",
        "\n",
        "** В следующих заданиях мы продолжим работать с вакансиями по этому условию.*\n",
        "\n",
        "Считаем вакансиями для специалистов уровня Junior следующие:\n",
        "* в названии есть слово 'junior' *или*\n",
        "* требуемый опыт — Нет опыта *или*\n",
        "* тип трудоустройства — Стажировка.\n",
        " "
      ]
    },
    {
      "cell_type": "code",
      "execution_count": 41,
      "id": "9c61b3c0-bb66-46c9-ae1e-81d3f5752b4a",
      "metadata": {
        "id": "9c61b3c0-bb66-46c9-ae1e-81d3f5752b4a"
      },
      "outputs": [],
      "source": [
        "# текст запроса\n",
        "query_6_2 = f'''\n",
        "select \n",
        "    count(*)\n",
        "from vacancies\n",
        "where (lower(name) like '%data scientist%' -- Проверка на отношение к Data-Science\n",
        "    or lower(name) like '%data science%'\n",
        "    or lower(name) like '%исследователь данных%'\n",
        "    or (name like '%ML%' and name not like '%HTML%')\n",
        "    or lower(name) like '%machine learning%'\n",
        "    or lower(name) like '%машинн%обучен%')\n",
        "    and (lower(name) like '%junior%' -- Проверка на начинающих \n",
        "    or experience = 'Нет опыта'\n",
        "    or employment = 'Стажировка')\n",
        "'''"
      ]
    },
    {
      "cell_type": "code",
      "execution_count": 42,
      "id": "ZNM-LLYuu1dj",
      "metadata": {
        "id": "ZNM-LLYuu1dj"
      },
      "outputs": [
        {
          "data": {
            "text/plain": [
              "51"
            ]
          },
          "execution_count": 42,
          "metadata": {},
          "output_type": "execute_result"
        }
      ],
      "source": [
        "# результат запроса\n",
        "result_6_2 = pd.read_sql_query(query_6_2, connection).iloc[0, 0]\n",
        "result_6_2"
      ]
    },
    {
      "cell_type": "markdown",
      "id": "eedceb80-c5ca-480e-b27a-278dfb8b4438",
      "metadata": {
        "id": "eedceb80-c5ca-480e-b27a-278dfb8b4438"
      },
      "source": [
        "3. Сколько есть вакансий для DS, в которых в качестве ключевого навыка указан SQL или postgres?\n",
        "\n",
        "** Критерии для отнесения вакансии к DS указаны в предыдущем задании.*"
      ]
    },
    {
      "cell_type": "code",
      "execution_count": 43,
      "id": "69621713-0cc5-4f1b-a1d7-bb144fa6148c",
      "metadata": {
        "id": "69621713-0cc5-4f1b-a1d7-bb144fa6148c"
      },
      "outputs": [],
      "source": [
        "# текст запроса\n",
        "query_6_3 = f'''\n",
        "select \n",
        "    count(*)\n",
        "from vacancies\n",
        "where (lower(name) like '%data scientist%'\n",
        "    or lower(name) like '%data science%'\n",
        "    or lower(name) like '%исследователь данных%'\n",
        "    or (name like '%ML%' and name not like '%HTML%')\n",
        "    or lower(name) like '%machine learning%'\n",
        "    or lower(name) like '%машинн%обучен%')\n",
        "    and (lower(key_skills) like '%sql%'\n",
        "    or lower(key_skills) like '%postgres%')\n",
        "'''"
      ]
    },
    {
      "cell_type": "code",
      "execution_count": 44,
      "id": "alA8WEAAvGdf",
      "metadata": {
        "id": "alA8WEAAvGdf"
      },
      "outputs": [
        {
          "data": {
            "text/plain": [
              "201"
            ]
          },
          "execution_count": 44,
          "metadata": {},
          "output_type": "execute_result"
        }
      ],
      "source": [
        "# результат запроса\n",
        "result_6_3 = pd.read_sql_query(query_6_3, connection).iloc[0, 0]\n",
        "result_6_3"
      ]
    },
    {
      "cell_type": "markdown",
      "id": "1be1e9c6-37cf-4a5f-bfeb-04cab799dc80",
      "metadata": {
        "id": "1be1e9c6-37cf-4a5f-bfeb-04cab799dc80"
      },
      "source": [
        "4. Проверьте, насколько популярен Python в требованиях работодателей к DS. Для этого вычислите количество вакансий, в которых в качестве ключевого навыка указан Python.\n",
        "\n",
        "** Это можно сделать помощью запроса, аналогичного предыдущему.*"
      ]
    },
    {
      "cell_type": "code",
      "execution_count": 45,
      "id": "0036a355-9ccf-4564-8b01-73d8194297e7",
      "metadata": {
        "id": "0036a355-9ccf-4564-8b01-73d8194297e7"
      },
      "outputs": [],
      "source": [
        "# текст запроса\n",
        "query_6_4 = f'''\n",
        "select \n",
        "    count(*)\n",
        "from vacancies\n",
        "where (lower(name) like '%data scientist%'\n",
        "    or lower(name) like '%data science%'\n",
        "    or lower(name) like '%исследователь данных%'\n",
        "    or (name like '%ML%' and name not like '%HTML%')\n",
        "    or lower(name) like '%machine learning%'\n",
        "    or lower(name) like '%машинн%обучен%')\n",
        "    and (lower(key_skills) like '%python%')\n",
        "'''"
      ]
    },
    {
      "cell_type": "code",
      "execution_count": 46,
      "id": "1i-5WyucvQ6v",
      "metadata": {
        "id": "1i-5WyucvQ6v"
      },
      "outputs": [
        {
          "data": {
            "text/plain": [
              "351"
            ]
          },
          "execution_count": 46,
          "metadata": {},
          "output_type": "execute_result"
        }
      ],
      "source": [
        "# результат запроса\n",
        "result_6_4 = pd.read_sql_query(query_6_4, connection).iloc[0, 0]\n",
        "result_6_4"
      ]
    },
    {
      "cell_type": "markdown",
      "id": "ec3c8db7-fa21-4a41-a994-1af63742a642",
      "metadata": {
        "id": "ec3c8db7-fa21-4a41-a994-1af63742a642"
      },
      "source": [
        "5. Сколько ключевых навыков в среднем указывают в вакансиях для DS?\n",
        "Ответ округлите до двух знаков после точки-разделителя."
      ]
    },
    {
      "cell_type": "code",
      "execution_count": 47,
      "id": "949132bc-d5b6-4611-8218-0b9a504d74f4",
      "metadata": {
        "id": "949132bc-d5b6-4611-8218-0b9a504d74f4"
      },
      "outputs": [],
      "source": [
        "# текст запроса\n",
        "query_6_5 = f'''\n",
        "select \n",
        "    -- Количество ключевых навыков = Длина строки - Длина строки без знаков разделителей (табуляций) + 1\n",
        "    round(avg(length(key_skills) - length(replace(key_skills, chr(9), '')) + 1), 2) as key_skills_cnt\n",
        "from vacancies\n",
        "where (lower(name) like '%data scientist%'\n",
        "    or lower(name) like '%data science%'\n",
        "    or lower(name) like '%исследователь данных%'\n",
        "    or (name like '%ML%' and name not like '%HTML%')\n",
        "    or lower(name) like '%machine learning%'\n",
        "    or lower(name) like '%машинн%обучен%')\n",
        "'''"
      ]
    },
    {
      "cell_type": "code",
      "execution_count": 48,
      "id": "a3V24Tvmviqk",
      "metadata": {
        "id": "a3V24Tvmviqk"
      },
      "outputs": [
        {
          "data": {
            "application/vnd.microsoft.datawrangler.viewer.v0+json": {
              "columns": [
                {
                  "name": "index",
                  "rawType": "int64",
                  "type": "integer"
                },
                {
                  "name": "key_skills_cnt",
                  "rawType": "float64",
                  "type": "float"
                }
              ],
              "conversionMethod": "pd.DataFrame",
              "ref": "652370a2-703b-4e41-bbd3-dad20f5a9b0a",
              "rows": [
                [
                  "0",
                  "6.41"
                ]
              ],
              "shape": {
                "columns": 1,
                "rows": 1
              }
            },
            "text/html": [
              "<div>\n",
              "<style scoped>\n",
              "    .dataframe tbody tr th:only-of-type {\n",
              "        vertical-align: middle;\n",
              "    }\n",
              "\n",
              "    .dataframe tbody tr th {\n",
              "        vertical-align: top;\n",
              "    }\n",
              "\n",
              "    .dataframe thead th {\n",
              "        text-align: right;\n",
              "    }\n",
              "</style>\n",
              "<table border=\"1\" class=\"dataframe\">\n",
              "  <thead>\n",
              "    <tr style=\"text-align: right;\">\n",
              "      <th></th>\n",
              "      <th>key_skills_cnt</th>\n",
              "    </tr>\n",
              "  </thead>\n",
              "  <tbody>\n",
              "    <tr>\n",
              "      <th>0</th>\n",
              "      <td>6.41</td>\n",
              "    </tr>\n",
              "  </tbody>\n",
              "</table>\n",
              "</div>"
            ],
            "text/plain": [
              "   key_skills_cnt\n",
              "0            6.41"
            ]
          },
          "execution_count": 48,
          "metadata": {},
          "output_type": "execute_result"
        }
      ],
      "source": [
        "# результат запроса\n",
        "result_6_5 = pd.read_sql_query(query_6_5, connection)\n",
        "result_6_5"
      ]
    },
    {
      "cell_type": "markdown",
      "id": "1041c17a-ca8f-4543-a0ca-32778914fb00",
      "metadata": {
        "id": "1041c17a-ca8f-4543-a0ca-32778914fb00"
      },
      "source": [
        "6. Напишите запрос, позволяющий вычислить, какую зарплату для DS в **среднем** указывают для каждого типа требуемого опыта (уникальное значение из поля *experience*). \n",
        "\n",
        "При решении задачи примите во внимание следующее:\n",
        "1. Рассматриваем только вакансии, у которых заполнено хотя бы одно из двух полей с зарплатой.\n",
        "2. Если заполнены оба поля с зарплатой, то считаем зарплату по каждой вакансии как сумму двух полей, делённую на 2. Если заполнено только одно из полей, то его и считаем зарплатой по вакансии.\n",
        "3. Если в расчётах участвует null, в результате он тоже даст null (посмотрите, что возвращает запрос select 1 + null). Чтобы избежать этой ситуацию, мы воспользуемся функцией [coalesce](https://postgrespro.ru/docs/postgresql/9.5/functions-conditional#functions-coalesce-nvl-ifnull), которая заменит null на значение, которое мы передадим. Например, посмотрите, что возвращает запрос `select 1 + coalesce(null, 0)`\n",
        "\n",
        "Выясните, на какую зарплату в среднем может рассчитывать дата-сайентист с опытом работы от 3 до 6 лет. Результат округлите до целого числа. "
      ]
    },
    {
      "cell_type": "code",
      "execution_count": 49,
      "id": "6a743d39-5204-48d3-8271-b9f88e68d40e",
      "metadata": {
        "id": "6a743d39-5204-48d3-8271-b9f88e68d40e"
      },
      "outputs": [],
      "source": [
        "# текст запроса\n",
        "query_6_6 = f'''\n",
        "select \n",
        "    experience,\n",
        "    round(avg(case \n",
        "        when salary_from is not null and salary_to is not null -- Если оба поля заполнены\n",
        "            then (coalesce(salary_from, 0) + coalesce(salary_to, 0)) / 2\n",
        "        else -- Если одно из полей не заполнено\n",
        "            coalesce(salary_from, 0) + coalesce(salary_to, 0)\n",
        "    end)) as salary\n",
        "from vacancies\n",
        "where (lower(name) like '%data scientist%'\n",
        "    or lower(name) like '%data science%'\n",
        "    or lower(name) like '%исследователь данных%'\n",
        "    or (name like '%ML%' and name not like '%HTML%')\n",
        "    or lower(name) like '%machine learning%'\n",
        "    or lower(name) like '%машинн%обучен%')\n",
        "    and (salary_from is not null or salary_to is not null) -- Хотя бы одно поле должно быть заполнено\n",
        "group by experience\n",
        "'''"
      ]
    },
    {
      "cell_type": "code",
      "execution_count": 50,
      "id": "aRIJ0mZEwU1_",
      "metadata": {
        "id": "aRIJ0mZEwU1_"
      },
      "outputs": [
        {
          "data": {
            "application/vnd.microsoft.datawrangler.viewer.v0+json": {
              "columns": [
                {
                  "name": "index",
                  "rawType": "int64",
                  "type": "integer"
                },
                {
                  "name": "experience",
                  "rawType": "object",
                  "type": "string"
                },
                {
                  "name": "salary",
                  "rawType": "float64",
                  "type": "float"
                }
              ],
              "conversionMethod": "pd.DataFrame",
              "ref": "c6c0f4b7-594a-4413-8358-da520de6d8dd",
              "rows": [
                [
                  "0",
                  "Нет опыта",
                  "74643.0"
                ],
                [
                  "1",
                  "От 1 года до 3 лет",
                  "139675.0"
                ],
                [
                  "2",
                  "От 3 до 6 лет",
                  "243115.0"
                ]
              ],
              "shape": {
                "columns": 2,
                "rows": 3
              }
            },
            "text/html": [
              "<div>\n",
              "<style scoped>\n",
              "    .dataframe tbody tr th:only-of-type {\n",
              "        vertical-align: middle;\n",
              "    }\n",
              "\n",
              "    .dataframe tbody tr th {\n",
              "        vertical-align: top;\n",
              "    }\n",
              "\n",
              "    .dataframe thead th {\n",
              "        text-align: right;\n",
              "    }\n",
              "</style>\n",
              "<table border=\"1\" class=\"dataframe\">\n",
              "  <thead>\n",
              "    <tr style=\"text-align: right;\">\n",
              "      <th></th>\n",
              "      <th>experience</th>\n",
              "      <th>salary</th>\n",
              "    </tr>\n",
              "  </thead>\n",
              "  <tbody>\n",
              "    <tr>\n",
              "      <th>0</th>\n",
              "      <td>Нет опыта</td>\n",
              "      <td>74643.0</td>\n",
              "    </tr>\n",
              "    <tr>\n",
              "      <th>1</th>\n",
              "      <td>От 1 года до 3 лет</td>\n",
              "      <td>139675.0</td>\n",
              "    </tr>\n",
              "    <tr>\n",
              "      <th>2</th>\n",
              "      <td>От 3 до 6 лет</td>\n",
              "      <td>243115.0</td>\n",
              "    </tr>\n",
              "  </tbody>\n",
              "</table>\n",
              "</div>"
            ],
            "text/plain": [
              "           experience    salary\n",
              "0           Нет опыта   74643.0\n",
              "1  От 1 года до 3 лет  139675.0\n",
              "2       От 3 до 6 лет  243115.0"
            ]
          },
          "execution_count": 50,
          "metadata": {},
          "output_type": "execute_result"
        }
      ],
      "source": [
        "# результат запроса\n",
        "result_6_6 = pd.read_sql_query(query_6_6, connection)\n",
        "result_6_6"
      ]
    },
    {
      "cell_type": "markdown",
      "id": "6a7892b4-4113-4746-adce-18aa2844f18e",
      "metadata": {
        "id": "6a7892b4-4113-4746-adce-18aa2844f18e"
      },
      "source": [
        "***"
      ]
    },
    {
      "cell_type": "markdown",
      "id": "34b92e6b",
      "metadata": {},
      "source": [
        "### Предметный анализ:\n",
        "- Количество вакансий, которые имеют отношения к Data-Science - 1771\n",
        "- Количество подходящих вакансий для начинающего DS - 51\n",
        "- Количество вакансий для DS, в которых в качестве ключевого навыка указан SQL или postgres - 201\n",
        "- Количество вакансий для DS, в которых в качестве ключевого навыка указан Python - 351\n",
        "- Количество ключевых навыков, которые в среднем указывают в вакансиях для DS - 6.41"
      ]
    },
    {
      "cell_type": "code",
      "execution_count": 51,
      "id": "6704cfdc",
      "metadata": {},
      "outputs": [
        {
          "data": {
            "image/png": "[encoded data removed]"
          },
          "metadata": {},
          "output_type": "display_data"
        }
      ],
      "source": [
        "fig = make_subplots(rows=1, cols=3, \n",
        "                    subplot_titles=['Средняя зарплата для DS,<br>в зависимости от требуемого опыта', \n",
        "                                    'Количество вакансий<br>имеющих отношение к Data-Science', \n",
        "                                    'Количество вакансий<br>подходящих для начинающего DS'],\n",
        "                    specs=[[{'type': 'bar'}, {'type': 'pie'}, {'type': 'pie'}]])\n",
        "\n",
        "fig.add_trace(go.Bar(x=result_6_6['experience'],\n",
        "              y=result_6_6['salary'], showlegend=False), row=1, col=1)\n",
        "fig.add_trace(go.Pie(labels=['Другие', 'Data Science'],\n",
        "                     values=[result_3_1-result_6_1, result_6_1], textinfo='value+percent',\n",
        "                     marker_colors=['rgb(192, 192, 192)', 'rgb(0, 192, 96)'], pull=[0, 0.05]), row=1, col=2)\n",
        "fig.add_trace(go.Pie(labels=['DS с опытом', 'Начинающий DS'],\n",
        "                     values=[result_6_1-result_6_2, result_6_2], textinfo='value+percent',\n",
        "                     marker_colors=['rgb(0, 128, 96)', 'rgb(0, 255, 96)'], pull=[0, 0.05]), row=1, col=3)\n",
        "\n",
        "fig.update_layout(\n",
        "    width=1600,\n",
        "    height=500,\n",
        "    xaxis1_title_text='Опыт работы',\n",
        "    yaxis1_title_text='Средняя зарплата',\n",
        ")\n",
        "\n",
        "for i, subplot in enumerate(fig['layout']['annotations']):\n",
        "    fig['layout']['annotations'][i]['y'] = 1.1\n",
        "\n",
        "\n",
        "fig.show()"
      ]
    },
    {
      "cell_type": "markdown",
      "id": "c00cd736",
      "metadata": {},
      "source": [
        "### Выводы:\n",
        "- 3.6% вакансий имеют отношение к Data Science, что указывает на высокий спрос на специалистов в данной области\n",
        "- 2.8% вакансий имеющих отношение к Data Science подходит начинающим, что указывает на высокий порог входа в профессию\n",
        "- Чтобы значительно увеличить шансы на получение получение рабочего места, DS специалисту необходимо владеть минимум 6-ю навыками, в частности Python и SQL"
      ]
    },
    {
      "cell_type": "markdown",
      "id": "c0ED6fh7wiBT",
      "metadata": {
        "id": "c0ED6fh7wiBT"
      },
      "source": [
        "# Дополнительное исследование и общий вывод по проекту"
      ]
    },
    {
      "cell_type": "markdown",
      "id": "d49a1a06",
      "metadata": {},
      "source": [
        "Работодатели по самой высокой заработной плате для DS"
      ]
    },
    {
      "cell_type": "code",
      "execution_count": 52,
      "id": "8c1461fe",
      "metadata": {},
      "outputs": [
        {
          "data": {
            "application/vnd.microsoft.datawrangler.viewer.v0+json": {
              "columns": [
                {
                  "name": "index",
                  "rawType": "int64",
                  "type": "integer"
                },
                {
                  "name": "name",
                  "rawType": "object",
                  "type": "string"
                },
                {
                  "name": "salary",
                  "rawType": "float64",
                  "type": "float"
                }
              ],
              "conversionMethod": "pd.DataFrame",
              "ref": "dcfb59d4-c09d-4736-ac71-32079d113181",
              "rows": [
                [
                  "0",
                  "Итон",
                  "450000.0"
                ],
                [
                  "1",
                  "AppQuantum",
                  "350000.0"
                ],
                [
                  "2",
                  "JSA Group",
                  "300000.0"
                ],
                [
                  "3",
                  "OVISION",
                  "300000.0"
                ],
                [
                  "4",
                  "Semrush",
                  "300000.0"
                ],
                [
                  "5",
                  "СберЛизинг",
                  "300000.0"
                ],
                [
                  "6",
                  "Дром",
                  "300000.0"
                ],
                [
                  "7",
                  "Кловер Групп",
                  "275000.0"
                ],
                [
                  "8",
                  "КИБЕР-РОМ",
                  "275000.0"
                ],
                [
                  "9",
                  "Dbrain",
                  "275000.0"
                ],
                [
                  "10",
                  "Andersen",
                  "268863.0"
                ],
                [
                  "11",
                  "Spice Agency",
                  "250000.0"
                ],
                [
                  "12",
                  "Freedom International Group",
                  "250000.0"
                ],
                [
                  "13",
                  "IntelligiChain",
                  "233794.0"
                ],
                [
                  "14",
                  "АЙТИ.СПЕЙС",
                  "225000.0"
                ],
                [
                  "15",
                  "Сима-ленд",
                  "225000.0"
                ],
                [
                  "16",
                  "Телега",
                  "225000.0"
                ],
                [
                  "17",
                  "Bip.ru",
                  "225000.0"
                ],
                [
                  "18",
                  "DIGINETICA",
                  "205000.0"
                ],
                [
                  "19",
                  "Алгоритмические Системы",
                  "200000.0"
                ],
                [
                  "20",
                  "УЦ Новый шаг",
                  "200000.0"
                ],
                [
                  "21",
                  "Зеленая долина, ГК",
                  "200000.0"
                ],
                [
                  "22",
                  "JuicyScore",
                  "200000.0"
                ],
                [
                  "23",
                  "Hype Auditor",
                  "175346.0"
                ],
                [
                  "24",
                  "НИИАС",
                  "175000.0"
                ],
                [
                  "25",
                  "Центр хранения и анализа больших данных",
                  "170000.0"
                ],
                [
                  "26",
                  "MNOGOGAMES",
                  "155000.0"
                ],
                [
                  "27",
                  "НСК ЭкоСфера",
                  "150000.0"
                ],
                [
                  "28",
                  "Интеллектуальные решения",
                  "150000.0"
                ],
                [
                  "29",
                  "РТК Автоматика",
                  "143500.0"
                ],
                [
                  "30",
                  "Азимут Технолоджи",
                  "140000.0"
                ],
                [
                  "31",
                  "РКК Энергия",
                  "130000.0"
                ],
                [
                  "32",
                  "Программный регион",
                  "127500.0"
                ],
                [
                  "33",
                  "Kolesa Group",
                  "122047.0"
                ],
                [
                  "34",
                  "Лидстех",
                  "120000.0"
                ],
                [
                  "35",
                  "Igor Polyakov Consulting",
                  "119000.0"
                ],
                [
                  "36",
                  "Университет ИТМО",
                  "115000.0"
                ],
                [
                  "37",
                  "Сталепромышленная компания",
                  "110000.0"
                ],
                [
                  "38",
                  "ВижнЛабс (VisionLabs)",
                  "100000.0"
                ],
                [
                  "39",
                  "ННФормат",
                  "98000.0"
                ],
                [
                  "40",
                  "Homework",
                  "90000.0"
                ],
                [
                  "41",
                  "DNS Головной офис",
                  "85000.0"
                ],
                [
                  "42",
                  "Апэрбот",
                  "80000.0"
                ],
                [
                  "43",
                  "Cpaaggregator.com",
                  "75000.0"
                ],
                [
                  "44",
                  "Строительный Двор",
                  "72500.0"
                ],
                [
                  "45",
                  "Cybernet (Кибернет)",
                  "67126.0"
                ],
                [
                  "46",
                  "Випакс+",
                  "60000.0"
                ],
                [
                  "47",
                  "Энтерра",
                  "60000.0"
                ],
                [
                  "48",
                  "Theyr Ltd",
                  "50000.0"
                ],
                [
                  "49",
                  "Ранкс",
                  "50000.0"
                ]
              ],
              "shape": {
                "columns": 2,
                "rows": 52
              }
            },
            "text/html": [
              "<div>\n",
              "<style scoped>\n",
              "    .dataframe tbody tr th:only-of-type {\n",
              "        vertical-align: middle;\n",
              "    }\n",
              "\n",
              "    .dataframe tbody tr th {\n",
              "        vertical-align: top;\n",
              "    }\n",
              "\n",
              "    .dataframe thead th {\n",
              "        text-align: right;\n",
              "    }\n",
              "</style>\n",
              "<table border=\"1\" class=\"dataframe\">\n",
              "  <thead>\n",
              "    <tr style=\"text-align: right;\">\n",
              "      <th></th>\n",
              "      <th>name</th>\n",
              "      <th>salary</th>\n",
              "    </tr>\n",
              "  </thead>\n",
              "  <tbody>\n",
              "    <tr>\n",
              "      <th>0</th>\n",
              "      <td>Итон</td>\n",
              "      <td>450000.0</td>\n",
              "    </tr>\n",
              "    <tr>\n",
              "      <th>1</th>\n",
              "      <td>AppQuantum</td>\n",
              "      <td>350000.0</td>\n",
              "    </tr>\n",
              "    <tr>\n",
              "      <th>2</th>\n",
              "      <td>JSA Group</td>\n",
              "      <td>300000.0</td>\n",
              "    </tr>\n",
              "    <tr>\n",
              "      <th>3</th>\n",
              "      <td>OVISION</td>\n",
              "      <td>300000.0</td>\n",
              "    </tr>\n",
              "    <tr>\n",
              "      <th>4</th>\n",
              "      <td>Semrush</td>\n",
              "      <td>300000.0</td>\n",
              "    </tr>\n",
              "    <tr>\n",
              "      <th>5</th>\n",
              "      <td>СберЛизинг</td>\n",
              "      <td>300000.0</td>\n",
              "    </tr>\n",
              "    <tr>\n",
              "      <th>6</th>\n",
              "      <td>Дром</td>\n",
              "      <td>300000.0</td>\n",
              "    </tr>\n",
              "    <tr>\n",
              "      <th>7</th>\n",
              "      <td>Кловер Групп</td>\n",
              "      <td>275000.0</td>\n",
              "    </tr>\n",
              "    <tr>\n",
              "      <th>8</th>\n",
              "      <td>КИБЕР-РОМ</td>\n",
              "      <td>275000.0</td>\n",
              "    </tr>\n",
              "    <tr>\n",
              "      <th>9</th>\n",
              "      <td>Dbrain</td>\n",
              "      <td>275000.0</td>\n",
              "    </tr>\n",
              "    <tr>\n",
              "      <th>10</th>\n",
              "      <td>Andersen</td>\n",
              "      <td>268863.0</td>\n",
              "    </tr>\n",
              "    <tr>\n",
              "      <th>11</th>\n",
              "      <td>Spice Agency</td>\n",
              "      <td>250000.0</td>\n",
              "    </tr>\n",
              "    <tr>\n",
              "      <th>12</th>\n",
              "      <td>Freedom International Group</td>\n",
              "      <td>250000.0</td>\n",
              "    </tr>\n",
              "    <tr>\n",
              "      <th>13</th>\n",
              "      <td>IntelligiChain</td>\n",
              "      <td>233794.0</td>\n",
              "    </tr>\n",
              "    <tr>\n",
              "      <th>14</th>\n",
              "      <td>АЙТИ.СПЕЙС</td>\n",
              "      <td>225000.0</td>\n",
              "    </tr>\n",
              "    <tr>\n",
              "      <th>15</th>\n",
              "      <td>Сима-ленд</td>\n",
              "      <td>225000.0</td>\n",
              "    </tr>\n",
              "    <tr>\n",
              "      <th>16</th>\n",
              "      <td>Телега</td>\n",
              "      <td>225000.0</td>\n",
              "    </tr>\n",
              "    <tr>\n",
              "      <th>17</th>\n",
              "      <td>Bip.ru</td>\n",
              "      <td>225000.0</td>\n",
              "    </tr>\n",
              "    <tr>\n",
              "      <th>18</th>\n",
              "      <td>DIGINETICA</td>\n",
              "      <td>205000.0</td>\n",
              "    </tr>\n",
              "    <tr>\n",
              "      <th>19</th>\n",
              "      <td>Алгоритмические Системы</td>\n",
              "      <td>200000.0</td>\n",
              "    </tr>\n",
              "    <tr>\n",
              "      <th>20</th>\n",
              "      <td>УЦ Новый шаг</td>\n",
              "      <td>200000.0</td>\n",
              "    </tr>\n",
              "    <tr>\n",
              "      <th>21</th>\n",
              "      <td>Зеленая долина, ГК</td>\n",
              "      <td>200000.0</td>\n",
              "    </tr>\n",
              "    <tr>\n",
              "      <th>22</th>\n",
              "      <td>JuicyScore</td>\n",
              "      <td>200000.0</td>\n",
              "    </tr>\n",
              "    <tr>\n",
              "      <th>23</th>\n",
              "      <td>Hype Auditor</td>\n",
              "      <td>175346.0</td>\n",
              "    </tr>\n",
              "    <tr>\n",
              "      <th>24</th>\n",
              "      <td>НИИАС</td>\n",
              "      <td>175000.0</td>\n",
              "    </tr>\n",
              "    <tr>\n",
              "      <th>25</th>\n",
              "      <td>Центр хранения и анализа больших данных</td>\n",
              "      <td>170000.0</td>\n",
              "    </tr>\n",
              "    <tr>\n",
              "      <th>26</th>\n",
              "      <td>MNOGOGAMES</td>\n",
              "      <td>155000.0</td>\n",
              "    </tr>\n",
              "    <tr>\n",
              "      <th>27</th>\n",
              "      <td>НСК ЭкоСфера</td>\n",
              "      <td>150000.0</td>\n",
              "    </tr>\n",
              "    <tr>\n",
              "      <th>28</th>\n",
              "      <td>Интеллектуальные решения</td>\n",
              "      <td>150000.0</td>\n",
              "    </tr>\n",
              "    <tr>\n",
              "      <th>29</th>\n",
              "      <td>РТК Автоматика</td>\n",
              "      <td>143500.0</td>\n",
              "    </tr>\n",
              "    <tr>\n",
              "      <th>30</th>\n",
              "      <td>Азимут Технолоджи</td>\n",
              "      <td>140000.0</td>\n",
              "    </tr>\n",
              "    <tr>\n",
              "      <th>31</th>\n",
              "      <td>РКК Энергия</td>\n",
              "      <td>130000.0</td>\n",
              "    </tr>\n",
              "    <tr>\n",
              "      <th>32</th>\n",
              "      <td>Программный регион</td>\n",
              "      <td>127500.0</td>\n",
              "    </tr>\n",
              "    <tr>\n",
              "      <th>33</th>\n",
              "      <td>Kolesa Group</td>\n",
              "      <td>122047.0</td>\n",
              "    </tr>\n",
              "    <tr>\n",
              "      <th>34</th>\n",
              "      <td>Лидстех</td>\n",
              "      <td>120000.0</td>\n",
              "    </tr>\n",
              "    <tr>\n",
              "      <th>35</th>\n",
              "      <td>Igor Polyakov Consulting</td>\n",
              "      <td>119000.0</td>\n",
              "    </tr>\n",
              "    <tr>\n",
              "      <th>36</th>\n",
              "      <td>Университет ИТМО</td>\n",
              "      <td>115000.0</td>\n",
              "    </tr>\n",
              "    <tr>\n",
              "      <th>37</th>\n",
              "      <td>Сталепромышленная компания</td>\n",
              "      <td>110000.0</td>\n",
              "    </tr>\n",
              "    <tr>\n",
              "      <th>38</th>\n",
              "      <td>ВижнЛабс (VisionLabs)</td>\n",
              "      <td>100000.0</td>\n",
              "    </tr>\n",
              "    <tr>\n",
              "      <th>39</th>\n",
              "      <td>ННФормат</td>\n",
              "      <td>98000.0</td>\n",
              "    </tr>\n",
              "    <tr>\n",
              "      <th>40</th>\n",
              "      <td>Homework</td>\n",
              "      <td>90000.0</td>\n",
              "    </tr>\n",
              "    <tr>\n",
              "      <th>41</th>\n",
              "      <td>DNS Головной офис</td>\n",
              "      <td>85000.0</td>\n",
              "    </tr>\n",
              "    <tr>\n",
              "      <th>42</th>\n",
              "      <td>Апэрбот</td>\n",
              "      <td>80000.0</td>\n",
              "    </tr>\n",
              "    <tr>\n",
              "      <th>43</th>\n",
              "      <td>Cpaaggregator.com</td>\n",
              "      <td>75000.0</td>\n",
              "    </tr>\n",
              "    <tr>\n",
              "      <th>44</th>\n",
              "      <td>Строительный Двор</td>\n",
              "      <td>72500.0</td>\n",
              "    </tr>\n",
              "    <tr>\n",
              "      <th>45</th>\n",
              "      <td>Cybernet (Кибернет)</td>\n",
              "      <td>67126.0</td>\n",
              "    </tr>\n",
              "    <tr>\n",
              "      <th>46</th>\n",
              "      <td>Випакс+</td>\n",
              "      <td>60000.0</td>\n",
              "    </tr>\n",
              "    <tr>\n",
              "      <th>47</th>\n",
              "      <td>Энтерра</td>\n",
              "      <td>60000.0</td>\n",
              "    </tr>\n",
              "    <tr>\n",
              "      <th>48</th>\n",
              "      <td>Theyr Ltd</td>\n",
              "      <td>50000.0</td>\n",
              "    </tr>\n",
              "    <tr>\n",
              "      <th>49</th>\n",
              "      <td>Ранкс</td>\n",
              "      <td>50000.0</td>\n",
              "    </tr>\n",
              "    <tr>\n",
              "      <th>50</th>\n",
              "      <td>Улыбка радуги</td>\n",
              "      <td>50000.0</td>\n",
              "    </tr>\n",
              "    <tr>\n",
              "      <th>51</th>\n",
              "      <td>КБ Уральский банк реконструкции и развития (УБ...</td>\n",
              "      <td>37000.0</td>\n",
              "    </tr>\n",
              "  </tbody>\n",
              "</table>\n",
              "</div>"
            ],
            "text/plain": [
              "                                                 name    salary\n",
              "0                                                Итон  450000.0\n",
              "1                                          AppQuantum  350000.0\n",
              "2                                           JSA Group  300000.0\n",
              "3                                             OVISION  300000.0\n",
              "4                                             Semrush  300000.0\n",
              "5                                          СберЛизинг  300000.0\n",
              "6                                                Дром  300000.0\n",
              "7                                        Кловер Групп  275000.0\n",
              "8                                           КИБЕР-РОМ  275000.0\n",
              "9                                              Dbrain  275000.0\n",
              "10                                           Andersen  268863.0\n",
              "11                                       Spice Agency  250000.0\n",
              "12                        Freedom International Group  250000.0\n",
              "13                                     IntelligiChain  233794.0\n",
              "14                                         АЙТИ.СПЕЙС  225000.0\n",
              "15                                          Сима-ленд  225000.0\n",
              "16                                             Телега  225000.0\n",
              "17                                             Bip.ru  225000.0\n",
              "18                                         DIGINETICA  205000.0\n",
              "19                            Алгоритмические Системы  200000.0\n",
              "20                                       УЦ Новый шаг  200000.0\n",
              "21                                 Зеленая долина, ГК  200000.0\n",
              "22                                         JuicyScore  200000.0\n",
              "23                                       Hype Auditor  175346.0\n",
              "24                                              НИИАС  175000.0\n",
              "25            Центр хранения и анализа больших данных  170000.0\n",
              "26                                         MNOGOGAMES  155000.0\n",
              "27                                       НСК ЭкоСфера  150000.0\n",
              "28                           Интеллектуальные решения  150000.0\n",
              "29                                     РТК Автоматика  143500.0\n",
              "30                                  Азимут Технолоджи  140000.0\n",
              "31                                        РКК Энергия  130000.0\n",
              "32                                 Программный регион  127500.0\n",
              "33                                       Kolesa Group  122047.0\n",
              "34                                            Лидстех  120000.0\n",
              "35                           Igor Polyakov Consulting  119000.0\n",
              "36                                   Университет ИТМО  115000.0\n",
              "37                         Сталепромышленная компания  110000.0\n",
              "38                              ВижнЛабс (VisionLabs)  100000.0\n",
              "39                                           ННФормат   98000.0\n",
              "40                                           Homework   90000.0\n",
              "41                                  DNS Головной офис   85000.0\n",
              "42                                            Апэрбот   80000.0\n",
              "43                                  Cpaaggregator.com   75000.0\n",
              "44                                  Строительный Двор   72500.0\n",
              "45                                Cybernet (Кибернет)   67126.0\n",
              "46                                            Випакс+   60000.0\n",
              "47                                            Энтерра   60000.0\n",
              "48                                          Theyr Ltd   50000.0\n",
              "49                                              Ранкс   50000.0\n",
              "50                                      Улыбка радуги   50000.0\n",
              "51  КБ Уральский банк реконструкции и развития (УБ...   37000.0"
            ]
          },
          "execution_count": 52,
          "metadata": {},
          "output_type": "execute_result"
        }
      ],
      "source": [
        "query_7_1 = f'''\n",
        "select \n",
        "    e.name,\n",
        "    round(avg(case \n",
        "        when v.salary_from is not null and v.salary_to is not null\n",
        "            then (coalesce(v.salary_from, 0) + coalesce(v.salary_to, 0)) / 2\n",
        "        else\n",
        "            coalesce(v.salary_from, 0) + coalesce(v.salary_to, 0)\n",
        "    end)) as salary\n",
        "from vacancies v\n",
        "    join employers e on v.employer_id=e.id\n",
        "where (lower(v.name) like '%data scientist%'\n",
        "    or lower(v.name) like '%data science%'\n",
        "    or lower(v.name) like '%исследователь данных%'\n",
        "    or (v.name like '%ML%' and v.name not like '%HTML%')\n",
        "    or lower(v.name) like '%machine learning%'\n",
        "    or lower(v.name) like '%машинн%обучен%')\n",
        "    and (salary_from is not null or salary_to is not null)\n",
        "group by e.id\n",
        "order by salary desc\n",
        "'''\n",
        "\n",
        "# результат запроса\n",
        "result_7_1 = pd.read_sql_query(query_7_1, connection)\n",
        "result_7_1"
      ]
    },
    {
      "cell_type": "code",
      "execution_count": 53,
      "id": "1ed8cef1",
      "metadata": {},
      "outputs": [
        {
          "data": {
            "application/vnd.microsoft.datawrangler.viewer.v0+json": {
              "columns": [
                {
                  "name": "index",
                  "rawType": "int64",
                  "type": "integer"
                },
                {
                  "name": "id",
                  "rawType": "int64",
                  "type": "integer"
                },
                {
                  "name": "name",
                  "rawType": "object",
                  "type": "string"
                },
                {
                  "name": "key_skills",
                  "rawType": "object",
                  "type": "string"
                },
                {
                  "name": "schedule",
                  "rawType": "object",
                  "type": "string"
                },
                {
                  "name": "experience",
                  "rawType": "object",
                  "type": "string"
                },
                {
                  "name": "employment",
                  "rawType": "object",
                  "type": "string"
                },
                {
                  "name": "salary_from",
                  "rawType": "float64",
                  "type": "float"
                },
                {
                  "name": "salary_to",
                  "rawType": "object",
                  "type": "unknown"
                },
                {
                  "name": "area_id",
                  "rawType": "int64",
                  "type": "integer"
                },
                {
                  "name": "employer_id",
                  "rawType": "int64",
                  "type": "integer"
                }
              ],
              "conversionMethod": "pd.DataFrame",
              "ref": "65953ec7-6892-4738-91e7-b41734ab9ed1",
              "rows": [
                [
                  "0",
                  "55312386",
                  "Компьютерный Мастер",
                  "Пользователь ПК\tРабота в команде\tРемонт ноутбуков\tДиагностика\tОпытный пользователь ПК\tРемонт\tУстановка ОС\tРемонт компьютеров\tНавыки продаж",
                  "Полный день",
                  "Нет опыта",
                  "Полная занятость",
                  "64000.0",
                  null,
                  "1516",
                  "5724811"
                ],
                [
                  "1",
                  "55843014",
                  "Системный администратор",
                  "Средства криптографической защиты информации\tActive Directory\tИнформационные технологии\tИнформационная безопасность\tРемонт ПК",
                  "Полный день",
                  "От 3 до 6 лет",
                  "Полная занятость",
                  null,
                  null,
                  "130",
                  "4903713"
                ],
                [
                  "2",
                  "54525964",
                  "Lead Java Developer to Poland",
                  "Spring Framework\tSQL\tHibernate ORM\tJava\tGit",
                  "Удаленная работа",
                  "От 3 до 6 лет",
                  "Полная занятость",
                  null,
                  null,
                  "160",
                  "69961"
                ]
              ],
              "shape": {
                "columns": 10,
                "rows": 3
              }
            },
            "text/html": [
              "<div>\n",
              "<style scoped>\n",
              "    .dataframe tbody tr th:only-of-type {\n",
              "        vertical-align: middle;\n",
              "    }\n",
              "\n",
              "    .dataframe tbody tr th {\n",
              "        vertical-align: top;\n",
              "    }\n",
              "\n",
              "    .dataframe thead th {\n",
              "        text-align: right;\n",
              "    }\n",
              "</style>\n",
              "<table border=\"1\" class=\"dataframe\">\n",
              "  <thead>\n",
              "    <tr style=\"text-align: right;\">\n",
              "      <th></th>\n",
              "      <th>id</th>\n",
              "      <th>name</th>\n",
              "      <th>key_skills</th>\n",
              "      <th>schedule</th>\n",
              "      <th>experience</th>\n",
              "      <th>employment</th>\n",
              "      <th>salary_from</th>\n",
              "      <th>salary_to</th>\n",
              "      <th>area_id</th>\n",
              "      <th>employer_id</th>\n",
              "    </tr>\n",
              "  </thead>\n",
              "  <tbody>\n",
              "    <tr>\n",
              "      <th>0</th>\n",
              "      <td>55312386</td>\n",
              "      <td>Компьютерный Мастер</td>\n",
              "      <td>Пользователь ПК\\tРабота в команде\\tРемонт ноут...</td>\n",
              "      <td>Полный день</td>\n",
              "      <td>Нет опыта</td>\n",
              "      <td>Полная занятость</td>\n",
              "      <td>64000.0</td>\n",
              "      <td>None</td>\n",
              "      <td>1516</td>\n",
              "      <td>5724811</td>\n",
              "    </tr>\n",
              "    <tr>\n",
              "      <th>1</th>\n",
              "      <td>55843014</td>\n",
              "      <td>Системный администратор</td>\n",
              "      <td>Средства криптографической защиты информации\\t...</td>\n",
              "      <td>Полный день</td>\n",
              "      <td>От 3 до 6 лет</td>\n",
              "      <td>Полная занятость</td>\n",
              "      <td>NaN</td>\n",
              "      <td>None</td>\n",
              "      <td>130</td>\n",
              "      <td>4903713</td>\n",
              "    </tr>\n",
              "    <tr>\n",
              "      <th>2</th>\n",
              "      <td>54525964</td>\n",
              "      <td>Lead Java Developer to Poland</td>\n",
              "      <td>Spring Framework\\tSQL\\tHibernate ORM\\tJava\\tGit</td>\n",
              "      <td>Удаленная работа</td>\n",
              "      <td>От 3 до 6 лет</td>\n",
              "      <td>Полная занятость</td>\n",
              "      <td>NaN</td>\n",
              "      <td>None</td>\n",
              "      <td>160</td>\n",
              "      <td>69961</td>\n",
              "    </tr>\n",
              "  </tbody>\n",
              "</table>\n",
              "</div>"
            ],
            "text/plain": [
              "         id                           name  \\\n",
              "0  55312386            Компьютерный Мастер   \n",
              "1  55843014        Системный администратор   \n",
              "2  54525964  Lead Java Developer to Poland   \n",
              "\n",
              "                                          key_skills          schedule  \\\n",
              "0  Пользователь ПК\\tРабота в команде\\tРемонт ноут...       Полный день   \n",
              "1  Средства криптографической защиты информации\\t...       Полный день   \n",
              "2    Spring Framework\\tSQL\\tHibernate ORM\\tJava\\tGit  Удаленная работа   \n",
              "\n",
              "      experience        employment  salary_from salary_to  area_id  \\\n",
              "0      Нет опыта  Полная занятость      64000.0      None     1516   \n",
              "1  От 3 до 6 лет  Полная занятость          NaN      None      130   \n",
              "2  От 3 до 6 лет  Полная занятость          NaN      None      160   \n",
              "\n",
              "   employer_id  \n",
              "0      5724811  \n",
              "1      4903713  \n",
              "2        69961  "
            ]
          },
          "execution_count": 53,
          "metadata": {},
          "output_type": "execute_result"
        }
      ],
      "source": [
        "query_7_2 = f'''\n",
        "select * from vacancies\n",
        "limit 3\n",
        "'''\n",
        "\n",
        "# результат запроса\n",
        "result_7_2 = pd.read_sql_query(query_7_2, connection)\n",
        "result_7_2"
      ]
    },
    {
      "cell_type": "markdown",
      "id": "f85ac634",
      "metadata": {},
      "source": [
        "Самые востребованные ключевые навыки для DS\n"
      ]
    },
    {
      "cell_type": "code",
      "execution_count": 54,
      "id": "8d283b30",
      "metadata": {},
      "outputs": [
        {
          "data": {
            "application/vnd.microsoft.datawrangler.viewer.v0+json": {
              "columns": [
                {
                  "name": "index",
                  "rawType": "int64",
                  "type": "integer"
                },
                {
                  "name": "key_skills",
                  "rawType": "object",
                  "type": "string"
                },
                {
                  "name": "count",
                  "rawType": "int64",
                  "type": "integer"
                }
              ],
              "conversionMethod": "pd.DataFrame",
              "ref": "1bc1f857-a292-4880-8a6e-f2e2ace952ee",
              "rows": [
                [
                  "0",
                  "Python",
                  "348"
                ],
                [
                  "1",
                  "SQL",
                  "191"
                ],
                [
                  "2",
                  "Machine Learning",
                  "114"
                ],
                [
                  "3",
                  "Git",
                  "66"
                ],
                [
                  "4",
                  "Математическая статистика",
                  "62"
                ],
                [
                  "5",
                  "Data Analysis",
                  "54"
                ],
                [
                  "6",
                  "Pandas",
                  "52"
                ],
                [
                  "7",
                  "Data Science",
                  "52"
                ],
                [
                  "8",
                  "ML",
                  "49"
                ],
                [
                  "9",
                  "Английский язык",
                  "48"
                ],
                [
                  "10",
                  "Linux",
                  "47"
                ],
                [
                  "11",
                  "PyTorch",
                  "46"
                ],
                [
                  "12",
                  "Анализ данных",
                  "46"
                ],
                [
                  "13",
                  "Big Data",
                  "42"
                ],
                [
                  "14",
                  "Математическое моделирование",
                  "41"
                ],
                [
                  "15",
                  "Статистический анализ",
                  "40"
                ],
                [
                  "16",
                  "NLP",
                  "40"
                ],
                [
                  "17",
                  "C++",
                  "39"
                ],
                [
                  "18",
                  "Spark",
                  "38"
                ],
                [
                  "19",
                  "Tensorflow",
                  "35"
                ]
              ],
              "shape": {
                "columns": 2,
                "rows": 20
              }
            },
            "text/html": [
              "<div>\n",
              "<style scoped>\n",
              "    .dataframe tbody tr th:only-of-type {\n",
              "        vertical-align: middle;\n",
              "    }\n",
              "\n",
              "    .dataframe tbody tr th {\n",
              "        vertical-align: top;\n",
              "    }\n",
              "\n",
              "    .dataframe thead th {\n",
              "        text-align: right;\n",
              "    }\n",
              "</style>\n",
              "<table border=\"1\" class=\"dataframe\">\n",
              "  <thead>\n",
              "    <tr style=\"text-align: right;\">\n",
              "      <th></th>\n",
              "      <th>key_skills</th>\n",
              "      <th>count</th>\n",
              "    </tr>\n",
              "  </thead>\n",
              "  <tbody>\n",
              "    <tr>\n",
              "      <th>0</th>\n",
              "      <td>Python</td>\n",
              "      <td>348</td>\n",
              "    </tr>\n",
              "    <tr>\n",
              "      <th>1</th>\n",
              "      <td>SQL</td>\n",
              "      <td>191</td>\n",
              "    </tr>\n",
              "    <tr>\n",
              "      <th>2</th>\n",
              "      <td>Machine Learning</td>\n",
              "      <td>114</td>\n",
              "    </tr>\n",
              "    <tr>\n",
              "      <th>3</th>\n",
              "      <td>Git</td>\n",
              "      <td>66</td>\n",
              "    </tr>\n",
              "    <tr>\n",
              "      <th>4</th>\n",
              "      <td>Математическая статистика</td>\n",
              "      <td>62</td>\n",
              "    </tr>\n",
              "    <tr>\n",
              "      <th>5</th>\n",
              "      <td>Data Analysis</td>\n",
              "      <td>54</td>\n",
              "    </tr>\n",
              "    <tr>\n",
              "      <th>6</th>\n",
              "      <td>Pandas</td>\n",
              "      <td>52</td>\n",
              "    </tr>\n",
              "    <tr>\n",
              "      <th>7</th>\n",
              "      <td>Data Science</td>\n",
              "      <td>52</td>\n",
              "    </tr>\n",
              "    <tr>\n",
              "      <th>8</th>\n",
              "      <td>ML</td>\n",
              "      <td>49</td>\n",
              "    </tr>\n",
              "    <tr>\n",
              "      <th>9</th>\n",
              "      <td>Английский язык</td>\n",
              "      <td>48</td>\n",
              "    </tr>\n",
              "    <tr>\n",
              "      <th>10</th>\n",
              "      <td>Linux</td>\n",
              "      <td>47</td>\n",
              "    </tr>\n",
              "    <tr>\n",
              "      <th>11</th>\n",
              "      <td>PyTorch</td>\n",
              "      <td>46</td>\n",
              "    </tr>\n",
              "    <tr>\n",
              "      <th>12</th>\n",
              "      <td>Анализ данных</td>\n",
              "      <td>46</td>\n",
              "    </tr>\n",
              "    <tr>\n",
              "      <th>13</th>\n",
              "      <td>Big Data</td>\n",
              "      <td>42</td>\n",
              "    </tr>\n",
              "    <tr>\n",
              "      <th>14</th>\n",
              "      <td>Математическое моделирование</td>\n",
              "      <td>41</td>\n",
              "    </tr>\n",
              "    <tr>\n",
              "      <th>15</th>\n",
              "      <td>Статистический анализ</td>\n",
              "      <td>40</td>\n",
              "    </tr>\n",
              "    <tr>\n",
              "      <th>16</th>\n",
              "      <td>NLP</td>\n",
              "      <td>40</td>\n",
              "    </tr>\n",
              "    <tr>\n",
              "      <th>17</th>\n",
              "      <td>C++</td>\n",
              "      <td>39</td>\n",
              "    </tr>\n",
              "    <tr>\n",
              "      <th>18</th>\n",
              "      <td>Spark</td>\n",
              "      <td>38</td>\n",
              "    </tr>\n",
              "    <tr>\n",
              "      <th>19</th>\n",
              "      <td>Tensorflow</td>\n",
              "      <td>35</td>\n",
              "    </tr>\n",
              "  </tbody>\n",
              "</table>\n",
              "</div>"
            ],
            "text/plain": [
              "                      key_skills  count\n",
              "0                         Python    348\n",
              "1                            SQL    191\n",
              "2               Machine Learning    114\n",
              "3                            Git     66\n",
              "4      Математическая статистика     62\n",
              "5                  Data Analysis     54\n",
              "6                         Pandas     52\n",
              "7                   Data Science     52\n",
              "8                             ML     49\n",
              "9                Английский язык     48\n",
              "10                         Linux     47\n",
              "11                       PyTorch     46\n",
              "12                 Анализ данных     46\n",
              "13                      Big Data     42\n",
              "14  Математическое моделирование     41\n",
              "15         Статистический анализ     40\n",
              "16                           NLP     40\n",
              "17                           C++     39\n",
              "18                         Spark     38\n",
              "19                    Tensorflow     35"
            ]
          },
          "execution_count": 54,
          "metadata": {},
          "output_type": "execute_result"
        }
      ],
      "source": [
        "# текст запроса\n",
        "query_7_3 = f'''\n",
        "select \n",
        "    key_skills,\n",
        "    count(*)\n",
        "from(\n",
        "    select \n",
        "        -- Ковертация строки навыков в массив -> распаковка элементов массива, чтобы посчитать количество каждого навыка\n",
        "        unnest(string_to_array(key_skills, chr(9))) as key_skills \n",
        "    from vacancies\n",
        "    where (lower(name) like '%data scientist%'\n",
        "        or lower(name) like '%data science%'\n",
        "        or lower(name) like '%исследователь данных%'\n",
        "        or (name like '%ML%' and name not like '%HTML%')\n",
        "        or lower(name) like '%machine learning%'\n",
        "        or lower(name) like '%машинн%обучен%')\n",
        "        and key_skills is not null\n",
        ") as unnested_key_skills\n",
        "group by key_skills\n",
        "order by count(*) desc\n",
        "limit 20\n",
        "'''\n",
        "# результат запроса\n",
        "result_7_3 = pd.read_sql_query(query_7_3, connection)\n",
        "result_7_3"
      ]
    },
    {
      "cell_type": "markdown",
      "id": "73b6391f",
      "metadata": {},
      "source": [
        "Работодатели-лидеры по количеству вакансий для начинающих DS специалистов"
      ]
    },
    {
      "cell_type": "code",
      "execution_count": 55,
      "id": "39fc49f0",
      "metadata": {},
      "outputs": [
        {
          "data": {
            "application/vnd.microsoft.datawrangler.viewer.v0+json": {
              "columns": [
                {
                  "name": "index",
                  "rawType": "int64",
                  "type": "integer"
                },
                {
                  "name": "id",
                  "rawType": "int64",
                  "type": "integer"
                },
                {
                  "name": "name",
                  "rawType": "object",
                  "type": "string"
                },
                {
                  "name": "v_cnt",
                  "rawType": "int64",
                  "type": "integer"
                }
              ],
              "conversionMethod": "pd.DataFrame",
              "ref": "09c40939-5d7d-49a2-bad6-362feb670fe7",
              "rows": [
                [
                  "0",
                  "4181",
                  "Банк ВТБ (ПАО)",
                  "10"
                ],
                [
                  "1",
                  "675403",
                  "Comexp",
                  "3"
                ],
                [
                  "2",
                  "976931",
                  "The Skolkovo Institute of Science and Technology",
                  "3"
                ],
                [
                  "3",
                  "2168135",
                  "SteadyControl",
                  "2"
                ],
                [
                  "4",
                  "4914081",
                  "Диплей",
                  "2"
                ],
                [
                  "5",
                  "3124",
                  "СтарЛайн, Научно-производственное объединение",
                  "2"
                ],
                [
                  "6",
                  "168307",
                  "DINS",
                  "1"
                ],
                [
                  "7",
                  "5920492",
                  "DNS Головной офис",
                  "1"
                ],
                [
                  "8",
                  "2180",
                  "Ozon",
                  "1"
                ],
                [
                  "9",
                  "1039977",
                  "Pay P.S.",
                  "1"
                ],
                [
                  "10",
                  "870069",
                  "Seldon",
                  "1"
                ],
                [
                  "11",
                  "2029927",
                  "Theyr Ltd",
                  "1"
                ],
                [
                  "12",
                  "15478",
                  "VK",
                  "1"
                ],
                [
                  "13",
                  "5979039",
                  "Алгоритмические Системы",
                  "1"
                ],
                [
                  "14",
                  "534346",
                  "АЛЬФА-БАНК",
                  "1"
                ],
                [
                  "15",
                  "4602050",
                  "Апэрбот",
                  "1"
                ],
                [
                  "16",
                  "2724615",
                  "БСТ Менеджмент-Консалтинг",
                  "1"
                ],
                [
                  "17",
                  "215942",
                  "Випакс+",
                  "1"
                ],
                [
                  "18",
                  "953",
                  "КБ Уральский банк реконструкции и развития (УБРиР)",
                  "1"
                ],
                [
                  "19",
                  "49357",
                  "МАГНИТ, Розничная сеть",
                  "1"
                ],
                [
                  "20",
                  "3127",
                  "МегаФон",
                  "1"
                ],
                [
                  "21",
                  "35784",
                  "Миррико, Группа Компаний",
                  "1"
                ],
                [
                  "22",
                  "4448058",
                  "МКК КапиталЪ-НТ",
                  "1"
                ],
                [
                  "23",
                  "2954482",
                  "ННФормат",
                  "1"
                ],
                [
                  "24",
                  "1688252",
                  "Представительство ООО «Квалитет» (Российская Федерация) в РБ",
                  "1"
                ],
                [
                  "25",
                  "2242",
                  "РЕСО-Гарантия, САО",
                  "1"
                ],
                [
                  "26",
                  "5488399",
                  "Самокат (ООО Умное пространство)",
                  "1"
                ],
                [
                  "27",
                  "3529",
                  "СБЕР",
                  "1"
                ],
                [
                  "28",
                  "665449",
                  "Строительный Двор",
                  "1"
                ],
                [
                  "29",
                  "80190",
                  "Технологика",
                  "1"
                ],
                [
                  "30",
                  "40938",
                  "Улыбка радуги",
                  "1"
                ],
                [
                  "31",
                  "1795976",
                  "Университет ИТМО",
                  "1"
                ],
                [
                  "32",
                  "1626408",
                  "Федеральное автономное учреждение Государственный Научно-Исследовательский Институт Авиационных Систем",
                  "1"
                ],
                [
                  "33",
                  "4108548",
                  "Целус Менеджмент",
                  "1"
                ],
                [
                  "34",
                  "2791",
                  "Шлюмберже",
                  "1"
                ]
              ],
              "shape": {
                "columns": 3,
                "rows": 35
              }
            },
            "text/html": [
              "<div>\n",
              "<style scoped>\n",
              "    .dataframe tbody tr th:only-of-type {\n",
              "        vertical-align: middle;\n",
              "    }\n",
              "\n",
              "    .dataframe tbody tr th {\n",
              "        vertical-align: top;\n",
              "    }\n",
              "\n",
              "    .dataframe thead th {\n",
              "        text-align: right;\n",
              "    }\n",
              "</style>\n",
              "<table border=\"1\" class=\"dataframe\">\n",
              "  <thead>\n",
              "    <tr style=\"text-align: right;\">\n",
              "      <th></th>\n",
              "      <th>id</th>\n",
              "      <th>name</th>\n",
              "      <th>v_cnt</th>\n",
              "    </tr>\n",
              "  </thead>\n",
              "  <tbody>\n",
              "    <tr>\n",
              "      <th>0</th>\n",
              "      <td>4181</td>\n",
              "      <td>Банк ВТБ (ПАО)</td>\n",
              "      <td>10</td>\n",
              "    </tr>\n",
              "    <tr>\n",
              "      <th>1</th>\n",
              "      <td>675403</td>\n",
              "      <td>Comexp</td>\n",
              "      <td>3</td>\n",
              "    </tr>\n",
              "    <tr>\n",
              "      <th>2</th>\n",
              "      <td>976931</td>\n",
              "      <td>The Skolkovo Institute of Science and Technology</td>\n",
              "      <td>3</td>\n",
              "    </tr>\n",
              "    <tr>\n",
              "      <th>3</th>\n",
              "      <td>2168135</td>\n",
              "      <td>SteadyControl</td>\n",
              "      <td>2</td>\n",
              "    </tr>\n",
              "    <tr>\n",
              "      <th>4</th>\n",
              "      <td>4914081</td>\n",
              "      <td>Диплей</td>\n",
              "      <td>2</td>\n",
              "    </tr>\n",
              "    <tr>\n",
              "      <th>5</th>\n",
              "      <td>3124</td>\n",
              "      <td>СтарЛайн, Научно-производственное объединение</td>\n",
              "      <td>2</td>\n",
              "    </tr>\n",
              "    <tr>\n",
              "      <th>6</th>\n",
              "      <td>168307</td>\n",
              "      <td>DINS</td>\n",
              "      <td>1</td>\n",
              "    </tr>\n",
              "    <tr>\n",
              "      <th>7</th>\n",
              "      <td>5920492</td>\n",
              "      <td>DNS Головной офис</td>\n",
              "      <td>1</td>\n",
              "    </tr>\n",
              "    <tr>\n",
              "      <th>8</th>\n",
              "      <td>2180</td>\n",
              "      <td>Ozon</td>\n",
              "      <td>1</td>\n",
              "    </tr>\n",
              "    <tr>\n",
              "      <th>9</th>\n",
              "      <td>1039977</td>\n",
              "      <td>Pay P.S.</td>\n",
              "      <td>1</td>\n",
              "    </tr>\n",
              "    <tr>\n",
              "      <th>10</th>\n",
              "      <td>870069</td>\n",
              "      <td>Seldon</td>\n",
              "      <td>1</td>\n",
              "    </tr>\n",
              "    <tr>\n",
              "      <th>11</th>\n",
              "      <td>2029927</td>\n",
              "      <td>Theyr Ltd</td>\n",
              "      <td>1</td>\n",
              "    </tr>\n",
              "    <tr>\n",
              "      <th>12</th>\n",
              "      <td>15478</td>\n",
              "      <td>VK</td>\n",
              "      <td>1</td>\n",
              "    </tr>\n",
              "    <tr>\n",
              "      <th>13</th>\n",
              "      <td>5979039</td>\n",
              "      <td>Алгоритмические Системы</td>\n",
              "      <td>1</td>\n",
              "    </tr>\n",
              "    <tr>\n",
              "      <th>14</th>\n",
              "      <td>534346</td>\n",
              "      <td>АЛЬФА-БАНК</td>\n",
              "      <td>1</td>\n",
              "    </tr>\n",
              "    <tr>\n",
              "      <th>15</th>\n",
              "      <td>4602050</td>\n",
              "      <td>Апэрбот</td>\n",
              "      <td>1</td>\n",
              "    </tr>\n",
              "    <tr>\n",
              "      <th>16</th>\n",
              "      <td>2724615</td>\n",
              "      <td>БСТ Менеджмент-Консалтинг</td>\n",
              "      <td>1</td>\n",
              "    </tr>\n",
              "    <tr>\n",
              "      <th>17</th>\n",
              "      <td>215942</td>\n",
              "      <td>Випакс+</td>\n",
              "      <td>1</td>\n",
              "    </tr>\n",
              "    <tr>\n",
              "      <th>18</th>\n",
              "      <td>953</td>\n",
              "      <td>КБ Уральский банк реконструкции и развития (УБ...</td>\n",
              "      <td>1</td>\n",
              "    </tr>\n",
              "    <tr>\n",
              "      <th>19</th>\n",
              "      <td>49357</td>\n",
              "      <td>МАГНИТ, Розничная сеть</td>\n",
              "      <td>1</td>\n",
              "    </tr>\n",
              "    <tr>\n",
              "      <th>20</th>\n",
              "      <td>3127</td>\n",
              "      <td>МегаФон</td>\n",
              "      <td>1</td>\n",
              "    </tr>\n",
              "    <tr>\n",
              "      <th>21</th>\n",
              "      <td>35784</td>\n",
              "      <td>Миррико, Группа Компаний</td>\n",
              "      <td>1</td>\n",
              "    </tr>\n",
              "    <tr>\n",
              "      <th>22</th>\n",
              "      <td>4448058</td>\n",
              "      <td>МКК КапиталЪ-НТ</td>\n",
              "      <td>1</td>\n",
              "    </tr>\n",
              "    <tr>\n",
              "      <th>23</th>\n",
              "      <td>2954482</td>\n",
              "      <td>ННФормат</td>\n",
              "      <td>1</td>\n",
              "    </tr>\n",
              "    <tr>\n",
              "      <th>24</th>\n",
              "      <td>1688252</td>\n",
              "      <td>Представительство ООО «Квалитет» (Российская Ф...</td>\n",
              "      <td>1</td>\n",
              "    </tr>\n",
              "    <tr>\n",
              "      <th>25</th>\n",
              "      <td>2242</td>\n",
              "      <td>РЕСО-Гарантия, САО</td>\n",
              "      <td>1</td>\n",
              "    </tr>\n",
              "    <tr>\n",
              "      <th>26</th>\n",
              "      <td>5488399</td>\n",
              "      <td>Самокат (ООО Умное пространство)</td>\n",
              "      <td>1</td>\n",
              "    </tr>\n",
              "    <tr>\n",
              "      <th>27</th>\n",
              "      <td>3529</td>\n",
              "      <td>СБЕР</td>\n",
              "      <td>1</td>\n",
              "    </tr>\n",
              "    <tr>\n",
              "      <th>28</th>\n",
              "      <td>665449</td>\n",
              "      <td>Строительный Двор</td>\n",
              "      <td>1</td>\n",
              "    </tr>\n",
              "    <tr>\n",
              "      <th>29</th>\n",
              "      <td>80190</td>\n",
              "      <td>Технологика</td>\n",
              "      <td>1</td>\n",
              "    </tr>\n",
              "    <tr>\n",
              "      <th>30</th>\n",
              "      <td>40938</td>\n",
              "      <td>Улыбка радуги</td>\n",
              "      <td>1</td>\n",
              "    </tr>\n",
              "    <tr>\n",
              "      <th>31</th>\n",
              "      <td>1795976</td>\n",
              "      <td>Университет ИТМО</td>\n",
              "      <td>1</td>\n",
              "    </tr>\n",
              "    <tr>\n",
              "      <th>32</th>\n",
              "      <td>1626408</td>\n",
              "      <td>Федеральное автономное учреждение Государствен...</td>\n",
              "      <td>1</td>\n",
              "    </tr>\n",
              "    <tr>\n",
              "      <th>33</th>\n",
              "      <td>4108548</td>\n",
              "      <td>Целус Менеджмент</td>\n",
              "      <td>1</td>\n",
              "    </tr>\n",
              "    <tr>\n",
              "      <th>34</th>\n",
              "      <td>2791</td>\n",
              "      <td>Шлюмберже</td>\n",
              "      <td>1</td>\n",
              "    </tr>\n",
              "  </tbody>\n",
              "</table>\n",
              "</div>"
            ],
            "text/plain": [
              "         id                                               name  v_cnt\n",
              "0      4181                                     Банк ВТБ (ПАО)     10\n",
              "1    675403                                             Comexp      3\n",
              "2    976931   The Skolkovo Institute of Science and Technology      3\n",
              "3   2168135                                      SteadyControl      2\n",
              "4   4914081                                             Диплей      2\n",
              "5      3124      СтарЛайн, Научно-производственное объединение      2\n",
              "6    168307                                               DINS      1\n",
              "7   5920492                                  DNS Головной офис      1\n",
              "8      2180                                               Ozon      1\n",
              "9   1039977                                           Pay P.S.      1\n",
              "10   870069                                             Seldon      1\n",
              "11  2029927                                          Theyr Ltd      1\n",
              "12    15478                                                 VK      1\n",
              "13  5979039                            Алгоритмические Системы      1\n",
              "14   534346                                         АЛЬФА-БАНК      1\n",
              "15  4602050                                            Апэрбот      1\n",
              "16  2724615                          БСТ Менеджмент-Консалтинг      1\n",
              "17   215942                                            Випакс+      1\n",
              "18      953  КБ Уральский банк реконструкции и развития (УБ...      1\n",
              "19    49357                             МАГНИТ, Розничная сеть      1\n",
              "20     3127                                            МегаФон      1\n",
              "21    35784                           Миррико, Группа Компаний      1\n",
              "22  4448058                                    МКК КапиталЪ-НТ      1\n",
              "23  2954482                                           ННФормат      1\n",
              "24  1688252  Представительство ООО «Квалитет» (Российская Ф...      1\n",
              "25     2242                                 РЕСО-Гарантия, САО      1\n",
              "26  5488399                   Самокат (ООО Умное пространство)      1\n",
              "27     3529                                               СБЕР      1\n",
              "28   665449                                  Строительный Двор      1\n",
              "29    80190                                        Технологика      1\n",
              "30    40938                                      Улыбка радуги      1\n",
              "31  1795976                                   Университет ИТМО      1\n",
              "32  1626408  Федеральное автономное учреждение Государствен...      1\n",
              "33  4108548                                   Целус Менеджмент      1\n",
              "34     2791                                          Шлюмберже      1"
            ]
          },
          "execution_count": 55,
          "metadata": {},
          "output_type": "execute_result"
        }
      ],
      "source": [
        "query_7_4 = f'''\n",
        "select \n",
        "    e.id,\n",
        "    e.name,\n",
        "    count(*) as v_cnt\n",
        "from vacancies v\n",
        "    join employers e on v.employer_id=e.id\n",
        "where (lower(v.name) like '%data scientist%'\n",
        "    or lower(v.name) like '%data science%'\n",
        "    or lower(v.name) like '%исследователь данных%'\n",
        "    or (v.name like '%ML%' and v.name not like '%HTML%')\n",
        "    or lower(v.name) like '%machine learning%'\n",
        "    or lower(v.name) like '%машинн%обучен%')\n",
        "    and (lower(v.name) like '%junior%'\n",
        "    or experience = 'Нет опыта'\n",
        "    or employment = 'Стажировка')\n",
        "group by e.id\n",
        "order by v_cnt desc, e.name\n",
        "'''\n",
        "\n",
        "# результат запроса\n",
        "result_7_4 = pd.read_sql_query(query_7_4, connection)\n",
        "result_7_4"
      ]
    },
    {
      "cell_type": "code",
      "execution_count": 56,
      "id": "e1b60b7e",
      "metadata": {},
      "outputs": [
        {
          "data": {
            "image/png": "[encoded data removed]"
          },
          "metadata": {},
          "output_type": "display_data"
        }
      ],
      "source": [
        "def limit_str(string, limit=20):\n",
        "    if len(string) > limit:\n",
        "        return string[:limit]+'...'\n",
        "    return string\n",
        "\n",
        "fig = make_subplots(rows=2, cols=2, subplot_titles=['Топ-10 работодателей по средней предлагаемой заработной плате DS',\n",
        "                                                    '20 самых востребованных ключевых навыков DS специалиста',\n",
        "                                                    'Топ-20 работодателей по количеству вакансий для начинающих DS специалистов'],\n",
        "                    specs=[[{},{}], [{\"colspan\": 2}, None]])\n",
        "\n",
        "\n",
        "fig.add_trace(go.Bar(x=result_7_1['name'][:10], y=result_7_1['salary'][:10]), row=1, col=1)\n",
        "fig.add_trace(go.Bar(x=result_7_3['key_skills'], y=result_7_3['count']), row=1, col=2)\n",
        "fig.add_trace(go.Bar(x=result_7_4['name'].map(limit_str), y=result_7_4['v_cnt']), row=2, col=1)\n",
        "\n",
        "fig.update_layout(\n",
        "    width=1600,\n",
        "    height=1000,\n",
        "    showlegend=False,\n",
        "    xaxis1_title_text='Работодатель',\n",
        "    yaxis1_title_text='Заработная плата',\n",
        "    xaxis2_title_text='Навык',\n",
        "    yaxis2_title_text='Количество вакансий',\n",
        "    xaxis3_title_text='Работодатель',\n",
        "    yaxis3_title_text='Количество вакансий',\n",
        "    xaxis3_tickangle=45\n",
        ")\n",
        "\n",
        "fig.show()\n",
        "\n"
      ]
    },
    {
      "cell_type": "markdown",
      "id": "2c629598",
      "metadata": {},
      "source": [
        "### Общие выводы:\n",
        "- В целом рынок труда нуждается в опытных специалистах, но есть возможности и у начинающих \n",
        "- DS специалист должен владеть как минимум 6-ю навыками, самые важные из них: Python, SQL, Machine Learning, GIT, Математическая статистика, Pandas и Английский язык\n",
        "- Чем выше опыт работы, тем выше заработная плата"
      ]
    }
  ],
  "metadata": {
    "colab": {
      "collapsed_sections": [
        "8d62a9f3-f64e-4fe7-bdac-c4dffa16155e"
      ],
      "provenance": []
    },
    "kernelspec": {
      "display_name": "Python 3",
      "language": "python",
      "name": "python3"
    },
    "language_info": {
      "codemirror_mode": {
        "name": "ipython",
        "version": 3
      },
      "file_extension": ".py",
      "mimetype": "text/x-python",
      "name": "python",
      "nbconvert_exporter": "python",
      "pygments_lexer": "ipython3",
      "version": "3.12.4"
    }
  },
  "nbformat": 4,
  "nbformat_minor": 5
}
